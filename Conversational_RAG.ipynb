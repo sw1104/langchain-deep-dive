{
 "cells": [
  {
   "cell_type": "code",
   "id": "initial_id",
   "metadata": {
    "collapsed": true,
    "ExecuteTime": {
     "end_time": "2024-07-14T08:05:59.411027Z",
     "start_time": "2024-07-14T08:04:51.044098Z"
    }
   },
   "source": [
    "%%capture --no-stderr\n",
    "%pip install --upgrade --quiet langchain langchain-community langchainhub langchain-chroma bs4"
   ],
   "outputs": [],
   "execution_count": 1
  },
  {
   "metadata": {
    "ExecuteTime": {
     "end_time": "2024-07-14T08:07:29.328297Z",
     "start_time": "2024-07-14T08:07:28.145503Z"
    }
   },
   "cell_type": "code",
   "source": "%pip install --quiet python-dotenv",
   "id": "9d6a53b7387fd426",
   "outputs": [
    {
     "name": "stdout",
     "output_type": "stream",
     "text": [
      "Note: you may need to restart the kernel to use updated packages.\n"
     ]
    }
   ],
   "execution_count": 3
  },
  {
   "metadata": {
    "ExecuteTime": {
     "end_time": "2024-07-14T08:07:44.683896Z",
     "start_time": "2024-07-14T08:07:44.676899Z"
    }
   },
   "cell_type": "code",
   "source": "from dotenv import load_dotenv",
   "id": "9d40904a84f30bd5",
   "outputs": [],
   "execution_count": 4
  },
  {
   "metadata": {
    "ExecuteTime": {
     "end_time": "2024-07-14T08:12:54.699479Z",
     "start_time": "2024-07-14T08:12:54.692261Z"
    }
   },
   "cell_type": "code",
   "source": "load_dotenv()",
   "id": "67fee235c8cbe9f1",
   "outputs": [
    {
     "data": {
      "text/plain": [
       "True"
      ]
     },
     "execution_count": 6,
     "metadata": {},
     "output_type": "execute_result"
    }
   ],
   "execution_count": 6
  },
  {
   "metadata": {
    "ExecuteTime": {
     "end_time": "2024-07-14T08:14:18.425924Z",
     "start_time": "2024-07-14T08:14:15.820247Z"
    }
   },
   "cell_type": "code",
   "source": "%pip install -qU langchain-openai",
   "id": "ec8729177e6ff05",
   "outputs": [
    {
     "name": "stdout",
     "output_type": "stream",
     "text": [
      "Note: you may need to restart the kernel to use updated packages.\n"
     ]
    }
   ],
   "execution_count": 7
  },
  {
   "metadata": {
    "ExecuteTime": {
     "end_time": "2024-07-14T08:21:10.996472Z",
     "start_time": "2024-07-14T08:21:10.970611Z"
    }
   },
   "cell_type": "code",
   "source": [
    "from langchain_openai import ChatOpenAI\n",
    "\n",
    "llm = ChatOpenAI(model=\"gpt-3.5-turbo-0125\")"
   ],
   "id": "6b28dc1e6c960556",
   "outputs": [],
   "execution_count": 11
  },
  {
   "metadata": {
    "ExecuteTime": {
     "end_time": "2024-07-14T08:25:09.179720Z",
     "start_time": "2024-07-14T08:25:06.963454Z"
    }
   },
   "cell_type": "code",
   "source": "%pip install langchain-chroma",
   "id": "5cab61f6ee8cb16c",
   "outputs": [
    {
     "name": "stdout",
     "output_type": "stream",
     "text": [
      "Requirement already satisfied: langchain-chroma in /opt/homebrew/anaconda3/envs/langchain_deep_dive/lib/python3.11/site-packages (0.1.2)\r\n",
      "Requirement already satisfied: chromadb<0.6.0,>=0.4.0 in /opt/homebrew/anaconda3/envs/langchain_deep_dive/lib/python3.11/site-packages (from langchain-chroma) (0.5.4)\r\n",
      "Requirement already satisfied: fastapi<1,>=0.95.2 in /opt/homebrew/anaconda3/envs/langchain_deep_dive/lib/python3.11/site-packages (from langchain-chroma) (0.111.0)\r\n",
      "Requirement already satisfied: langchain-core<0.3,>=0.1.40 in /opt/homebrew/anaconda3/envs/langchain_deep_dive/lib/python3.11/site-packages (from langchain-chroma) (0.2.18)\r\n",
      "Requirement already satisfied: numpy<2,>=1 in /opt/homebrew/anaconda3/envs/langchain_deep_dive/lib/python3.11/site-packages (from langchain-chroma) (1.26.4)\r\n",
      "Requirement already satisfied: build>=1.0.3 in /opt/homebrew/anaconda3/envs/langchain_deep_dive/lib/python3.11/site-packages (from chromadb<0.6.0,>=0.4.0->langchain-chroma) (1.2.1)\r\n",
      "Requirement already satisfied: pydantic>=1.9 in /opt/homebrew/anaconda3/envs/langchain_deep_dive/lib/python3.11/site-packages (from chromadb<0.6.0,>=0.4.0->langchain-chroma) (2.8.2)\r\n",
      "Requirement already satisfied: chroma-hnswlib==0.7.5 in /opt/homebrew/anaconda3/envs/langchain_deep_dive/lib/python3.11/site-packages (from chromadb<0.6.0,>=0.4.0->langchain-chroma) (0.7.5)\r\n",
      "Requirement already satisfied: uvicorn>=0.18.3 in /opt/homebrew/anaconda3/envs/langchain_deep_dive/lib/python3.11/site-packages (from uvicorn[standard]>=0.18.3->chromadb<0.6.0,>=0.4.0->langchain-chroma) (0.30.1)\r\n",
      "Requirement already satisfied: posthog>=2.4.0 in /opt/homebrew/anaconda3/envs/langchain_deep_dive/lib/python3.11/site-packages (from chromadb<0.6.0,>=0.4.0->langchain-chroma) (3.5.0)\r\n",
      "Requirement already satisfied: typing-extensions>=4.5.0 in /opt/homebrew/anaconda3/envs/langchain_deep_dive/lib/python3.11/site-packages (from chromadb<0.6.0,>=0.4.0->langchain-chroma) (4.12.2)\r\n",
      "Requirement already satisfied: onnxruntime>=1.14.1 in /opt/homebrew/anaconda3/envs/langchain_deep_dive/lib/python3.11/site-packages (from chromadb<0.6.0,>=0.4.0->langchain-chroma) (1.18.1)\r\n",
      "Requirement already satisfied: opentelemetry-api>=1.2.0 in /opt/homebrew/anaconda3/envs/langchain_deep_dive/lib/python3.11/site-packages (from chromadb<0.6.0,>=0.4.0->langchain-chroma) (1.25.0)\r\n",
      "Requirement already satisfied: opentelemetry-exporter-otlp-proto-grpc>=1.2.0 in /opt/homebrew/anaconda3/envs/langchain_deep_dive/lib/python3.11/site-packages (from chromadb<0.6.0,>=0.4.0->langchain-chroma) (1.25.0)\r\n",
      "Requirement already satisfied: opentelemetry-instrumentation-fastapi>=0.41b0 in /opt/homebrew/anaconda3/envs/langchain_deep_dive/lib/python3.11/site-packages (from chromadb<0.6.0,>=0.4.0->langchain-chroma) (0.46b0)\r\n",
      "Requirement already satisfied: opentelemetry-sdk>=1.2.0 in /opt/homebrew/anaconda3/envs/langchain_deep_dive/lib/python3.11/site-packages (from chromadb<0.6.0,>=0.4.0->langchain-chroma) (1.25.0)\r\n",
      "Requirement already satisfied: tokenizers>=0.13.2 in /opt/homebrew/anaconda3/envs/langchain_deep_dive/lib/python3.11/site-packages (from chromadb<0.6.0,>=0.4.0->langchain-chroma) (0.19.1)\r\n",
      "Requirement already satisfied: pypika>=0.48.9 in /opt/homebrew/anaconda3/envs/langchain_deep_dive/lib/python3.11/site-packages (from chromadb<0.6.0,>=0.4.0->langchain-chroma) (0.48.9)\r\n",
      "Requirement already satisfied: tqdm>=4.65.0 in /opt/homebrew/anaconda3/envs/langchain_deep_dive/lib/python3.11/site-packages (from chromadb<0.6.0,>=0.4.0->langchain-chroma) (4.66.4)\r\n",
      "Requirement already satisfied: overrides>=7.3.1 in /opt/homebrew/anaconda3/envs/langchain_deep_dive/lib/python3.11/site-packages (from chromadb<0.6.0,>=0.4.0->langchain-chroma) (7.7.0)\r\n",
      "Requirement already satisfied: importlib-resources in /opt/homebrew/anaconda3/envs/langchain_deep_dive/lib/python3.11/site-packages (from chromadb<0.6.0,>=0.4.0->langchain-chroma) (6.4.0)\r\n",
      "Requirement already satisfied: grpcio>=1.58.0 in /opt/homebrew/anaconda3/envs/langchain_deep_dive/lib/python3.11/site-packages (from chromadb<0.6.0,>=0.4.0->langchain-chroma) (1.64.1)\r\n",
      "Requirement already satisfied: bcrypt>=4.0.1 in /opt/homebrew/anaconda3/envs/langchain_deep_dive/lib/python3.11/site-packages (from chromadb<0.6.0,>=0.4.0->langchain-chroma) (4.1.3)\r\n",
      "Requirement already satisfied: typer>=0.9.0 in /opt/homebrew/anaconda3/envs/langchain_deep_dive/lib/python3.11/site-packages (from chromadb<0.6.0,>=0.4.0->langchain-chroma) (0.12.3)\r\n",
      "Requirement already satisfied: kubernetes>=28.1.0 in /opt/homebrew/anaconda3/envs/langchain_deep_dive/lib/python3.11/site-packages (from chromadb<0.6.0,>=0.4.0->langchain-chroma) (30.1.0)\r\n",
      "Requirement already satisfied: tenacity>=8.2.3 in /opt/homebrew/anaconda3/envs/langchain_deep_dive/lib/python3.11/site-packages (from chromadb<0.6.0,>=0.4.0->langchain-chroma) (8.5.0)\r\n",
      "Requirement already satisfied: PyYAML>=6.0.0 in /opt/homebrew/anaconda3/envs/langchain_deep_dive/lib/python3.11/site-packages (from chromadb<0.6.0,>=0.4.0->langchain-chroma) (6.0.1)\r\n",
      "Requirement already satisfied: mmh3>=4.0.1 in /opt/homebrew/anaconda3/envs/langchain_deep_dive/lib/python3.11/site-packages (from chromadb<0.6.0,>=0.4.0->langchain-chroma) (4.1.0)\r\n",
      "Requirement already satisfied: orjson>=3.9.12 in /opt/homebrew/anaconda3/envs/langchain_deep_dive/lib/python3.11/site-packages (from chromadb<0.6.0,>=0.4.0->langchain-chroma) (3.10.6)\r\n",
      "Requirement already satisfied: httpx>=0.27.0 in /opt/homebrew/anaconda3/envs/langchain_deep_dive/lib/python3.11/site-packages (from chromadb<0.6.0,>=0.4.0->langchain-chroma) (0.27.0)\r\n",
      "Requirement already satisfied: starlette<0.38.0,>=0.37.2 in /opt/homebrew/anaconda3/envs/langchain_deep_dive/lib/python3.11/site-packages (from fastapi<1,>=0.95.2->langchain-chroma) (0.37.2)\r\n",
      "Requirement already satisfied: fastapi-cli>=0.0.2 in /opt/homebrew/anaconda3/envs/langchain_deep_dive/lib/python3.11/site-packages (from fastapi<1,>=0.95.2->langchain-chroma) (0.0.4)\r\n",
      "Requirement already satisfied: jinja2>=2.11.2 in /opt/homebrew/anaconda3/envs/langchain_deep_dive/lib/python3.11/site-packages (from fastapi<1,>=0.95.2->langchain-chroma) (3.1.4)\r\n",
      "Requirement already satisfied: python-multipart>=0.0.7 in /opt/homebrew/anaconda3/envs/langchain_deep_dive/lib/python3.11/site-packages (from fastapi<1,>=0.95.2->langchain-chroma) (0.0.9)\r\n",
      "Requirement already satisfied: ujson!=4.0.2,!=4.1.0,!=4.2.0,!=4.3.0,!=5.0.0,!=5.1.0,>=4.0.1 in /opt/homebrew/anaconda3/envs/langchain_deep_dive/lib/python3.11/site-packages (from fastapi<1,>=0.95.2->langchain-chroma) (5.10.0)\r\n",
      "Requirement already satisfied: email_validator>=2.0.0 in /opt/homebrew/anaconda3/envs/langchain_deep_dive/lib/python3.11/site-packages (from fastapi<1,>=0.95.2->langchain-chroma) (2.2.0)\r\n",
      "Requirement already satisfied: jsonpatch<2.0,>=1.33 in /opt/homebrew/anaconda3/envs/langchain_deep_dive/lib/python3.11/site-packages (from langchain-core<0.3,>=0.1.40->langchain-chroma) (1.33)\r\n",
      "Requirement already satisfied: langsmith<0.2.0,>=0.1.75 in /opt/homebrew/anaconda3/envs/langchain_deep_dive/lib/python3.11/site-packages (from langchain-core<0.3,>=0.1.40->langchain-chroma) (0.1.85)\r\n",
      "Requirement already satisfied: packaging<25,>=23.2 in /opt/homebrew/anaconda3/envs/langchain_deep_dive/lib/python3.11/site-packages (from langchain-core<0.3,>=0.1.40->langchain-chroma) (24.1)\r\n",
      "Requirement already satisfied: pyproject_hooks in /opt/homebrew/anaconda3/envs/langchain_deep_dive/lib/python3.11/site-packages (from build>=1.0.3->chromadb<0.6.0,>=0.4.0->langchain-chroma) (1.1.0)\r\n",
      "Requirement already satisfied: dnspython>=2.0.0 in /opt/homebrew/anaconda3/envs/langchain_deep_dive/lib/python3.11/site-packages (from email_validator>=2.0.0->fastapi<1,>=0.95.2->langchain-chroma) (2.6.1)\r\n",
      "Requirement already satisfied: idna>=2.0.0 in /opt/homebrew/anaconda3/envs/langchain_deep_dive/lib/python3.11/site-packages (from email_validator>=2.0.0->fastapi<1,>=0.95.2->langchain-chroma) (3.7)\r\n",
      "Requirement already satisfied: anyio in /opt/homebrew/anaconda3/envs/langchain_deep_dive/lib/python3.11/site-packages (from httpx>=0.27.0->chromadb<0.6.0,>=0.4.0->langchain-chroma) (4.4.0)\r\n",
      "Requirement already satisfied: certifi in /opt/homebrew/anaconda3/envs/langchain_deep_dive/lib/python3.11/site-packages (from httpx>=0.27.0->chromadb<0.6.0,>=0.4.0->langchain-chroma) (2024.7.4)\r\n",
      "Requirement already satisfied: httpcore==1.* in /opt/homebrew/anaconda3/envs/langchain_deep_dive/lib/python3.11/site-packages (from httpx>=0.27.0->chromadb<0.6.0,>=0.4.0->langchain-chroma) (1.0.5)\r\n",
      "Requirement already satisfied: sniffio in /opt/homebrew/anaconda3/envs/langchain_deep_dive/lib/python3.11/site-packages (from httpx>=0.27.0->chromadb<0.6.0,>=0.4.0->langchain-chroma) (1.3.1)\r\n",
      "Requirement already satisfied: h11<0.15,>=0.13 in /opt/homebrew/anaconda3/envs/langchain_deep_dive/lib/python3.11/site-packages (from httpcore==1.*->httpx>=0.27.0->chromadb<0.6.0,>=0.4.0->langchain-chroma) (0.14.0)\r\n",
      "Requirement already satisfied: MarkupSafe>=2.0 in /opt/homebrew/anaconda3/envs/langchain_deep_dive/lib/python3.11/site-packages (from jinja2>=2.11.2->fastapi<1,>=0.95.2->langchain-chroma) (2.1.5)\r\n",
      "Requirement already satisfied: jsonpointer>=1.9 in /opt/homebrew/anaconda3/envs/langchain_deep_dive/lib/python3.11/site-packages (from jsonpatch<2.0,>=1.33->langchain-core<0.3,>=0.1.40->langchain-chroma) (3.0.0)\r\n",
      "Requirement already satisfied: six>=1.9.0 in /opt/homebrew/anaconda3/envs/langchain_deep_dive/lib/python3.11/site-packages (from kubernetes>=28.1.0->chromadb<0.6.0,>=0.4.0->langchain-chroma) (1.16.0)\r\n",
      "Requirement already satisfied: python-dateutil>=2.5.3 in /opt/homebrew/anaconda3/envs/langchain_deep_dive/lib/python3.11/site-packages (from kubernetes>=28.1.0->chromadb<0.6.0,>=0.4.0->langchain-chroma) (2.9.0)\r\n",
      "Requirement already satisfied: google-auth>=1.0.1 in /opt/homebrew/anaconda3/envs/langchain_deep_dive/lib/python3.11/site-packages (from kubernetes>=28.1.0->chromadb<0.6.0,>=0.4.0->langchain-chroma) (2.32.0)\r\n",
      "Requirement already satisfied: websocket-client!=0.40.0,!=0.41.*,!=0.42.*,>=0.32.0 in /opt/homebrew/anaconda3/envs/langchain_deep_dive/lib/python3.11/site-packages (from kubernetes>=28.1.0->chromadb<0.6.0,>=0.4.0->langchain-chroma) (1.8.0)\r\n",
      "Requirement already satisfied: requests in /opt/homebrew/anaconda3/envs/langchain_deep_dive/lib/python3.11/site-packages (from kubernetes>=28.1.0->chromadb<0.6.0,>=0.4.0->langchain-chroma) (2.32.3)\r\n",
      "Requirement already satisfied: requests-oauthlib in /opt/homebrew/anaconda3/envs/langchain_deep_dive/lib/python3.11/site-packages (from kubernetes>=28.1.0->chromadb<0.6.0,>=0.4.0->langchain-chroma) (2.0.0)\r\n",
      "Requirement already satisfied: oauthlib>=3.2.2 in /opt/homebrew/anaconda3/envs/langchain_deep_dive/lib/python3.11/site-packages (from kubernetes>=28.1.0->chromadb<0.6.0,>=0.4.0->langchain-chroma) (3.2.2)\r\n",
      "Requirement already satisfied: urllib3>=1.24.2 in /opt/homebrew/anaconda3/envs/langchain_deep_dive/lib/python3.11/site-packages (from kubernetes>=28.1.0->chromadb<0.6.0,>=0.4.0->langchain-chroma) (2.2.2)\r\n",
      "Requirement already satisfied: coloredlogs in /opt/homebrew/anaconda3/envs/langchain_deep_dive/lib/python3.11/site-packages (from onnxruntime>=1.14.1->chromadb<0.6.0,>=0.4.0->langchain-chroma) (15.0.1)\r\n",
      "Requirement already satisfied: flatbuffers in /opt/homebrew/anaconda3/envs/langchain_deep_dive/lib/python3.11/site-packages (from onnxruntime>=1.14.1->chromadb<0.6.0,>=0.4.0->langchain-chroma) (24.3.25)\r\n",
      "Requirement already satisfied: protobuf in /opt/homebrew/anaconda3/envs/langchain_deep_dive/lib/python3.11/site-packages (from onnxruntime>=1.14.1->chromadb<0.6.0,>=0.4.0->langchain-chroma) (4.25.3)\r\n",
      "Requirement already satisfied: sympy in /opt/homebrew/anaconda3/envs/langchain_deep_dive/lib/python3.11/site-packages (from onnxruntime>=1.14.1->chromadb<0.6.0,>=0.4.0->langchain-chroma) (1.13.0)\r\n",
      "Requirement already satisfied: deprecated>=1.2.6 in /opt/homebrew/anaconda3/envs/langchain_deep_dive/lib/python3.11/site-packages (from opentelemetry-api>=1.2.0->chromadb<0.6.0,>=0.4.0->langchain-chroma) (1.2.14)\r\n",
      "Requirement already satisfied: importlib-metadata<=7.1,>=6.0 in /opt/homebrew/anaconda3/envs/langchain_deep_dive/lib/python3.11/site-packages (from opentelemetry-api>=1.2.0->chromadb<0.6.0,>=0.4.0->langchain-chroma) (7.1.0)\r\n",
      "Requirement already satisfied: googleapis-common-protos~=1.52 in /opt/homebrew/anaconda3/envs/langchain_deep_dive/lib/python3.11/site-packages (from opentelemetry-exporter-otlp-proto-grpc>=1.2.0->chromadb<0.6.0,>=0.4.0->langchain-chroma) (1.63.2)\r\n",
      "Requirement already satisfied: opentelemetry-exporter-otlp-proto-common==1.25.0 in /opt/homebrew/anaconda3/envs/langchain_deep_dive/lib/python3.11/site-packages (from opentelemetry-exporter-otlp-proto-grpc>=1.2.0->chromadb<0.6.0,>=0.4.0->langchain-chroma) (1.25.0)\r\n",
      "Requirement already satisfied: opentelemetry-proto==1.25.0 in /opt/homebrew/anaconda3/envs/langchain_deep_dive/lib/python3.11/site-packages (from opentelemetry-exporter-otlp-proto-grpc>=1.2.0->chromadb<0.6.0,>=0.4.0->langchain-chroma) (1.25.0)\r\n",
      "Requirement already satisfied: opentelemetry-instrumentation-asgi==0.46b0 in /opt/homebrew/anaconda3/envs/langchain_deep_dive/lib/python3.11/site-packages (from opentelemetry-instrumentation-fastapi>=0.41b0->chromadb<0.6.0,>=0.4.0->langchain-chroma) (0.46b0)\r\n",
      "Requirement already satisfied: opentelemetry-instrumentation==0.46b0 in /opt/homebrew/anaconda3/envs/langchain_deep_dive/lib/python3.11/site-packages (from opentelemetry-instrumentation-fastapi>=0.41b0->chromadb<0.6.0,>=0.4.0->langchain-chroma) (0.46b0)\r\n",
      "Requirement already satisfied: opentelemetry-semantic-conventions==0.46b0 in /opt/homebrew/anaconda3/envs/langchain_deep_dive/lib/python3.11/site-packages (from opentelemetry-instrumentation-fastapi>=0.41b0->chromadb<0.6.0,>=0.4.0->langchain-chroma) (0.46b0)\r\n",
      "Requirement already satisfied: opentelemetry-util-http==0.46b0 in /opt/homebrew/anaconda3/envs/langchain_deep_dive/lib/python3.11/site-packages (from opentelemetry-instrumentation-fastapi>=0.41b0->chromadb<0.6.0,>=0.4.0->langchain-chroma) (0.46b0)\r\n",
      "Requirement already satisfied: setuptools>=16.0 in /opt/homebrew/anaconda3/envs/langchain_deep_dive/lib/python3.11/site-packages (from opentelemetry-instrumentation==0.46b0->opentelemetry-instrumentation-fastapi>=0.41b0->chromadb<0.6.0,>=0.4.0->langchain-chroma) (70.2.0)\r\n",
      "Requirement already satisfied: wrapt<2.0.0,>=1.0.0 in /opt/homebrew/anaconda3/envs/langchain_deep_dive/lib/python3.11/site-packages (from opentelemetry-instrumentation==0.46b0->opentelemetry-instrumentation-fastapi>=0.41b0->chromadb<0.6.0,>=0.4.0->langchain-chroma) (1.16.0)\r\n",
      "Requirement already satisfied: asgiref~=3.0 in /opt/homebrew/anaconda3/envs/langchain_deep_dive/lib/python3.11/site-packages (from opentelemetry-instrumentation-asgi==0.46b0->opentelemetry-instrumentation-fastapi>=0.41b0->chromadb<0.6.0,>=0.4.0->langchain-chroma) (3.8.1)\r\n",
      "Requirement already satisfied: monotonic>=1.5 in /opt/homebrew/anaconda3/envs/langchain_deep_dive/lib/python3.11/site-packages (from posthog>=2.4.0->chromadb<0.6.0,>=0.4.0->langchain-chroma) (1.6)\r\n",
      "Requirement already satisfied: backoff>=1.10.0 in /opt/homebrew/anaconda3/envs/langchain_deep_dive/lib/python3.11/site-packages (from posthog>=2.4.0->chromadb<0.6.0,>=0.4.0->langchain-chroma) (2.2.1)\r\n",
      "Requirement already satisfied: annotated-types>=0.4.0 in /opt/homebrew/anaconda3/envs/langchain_deep_dive/lib/python3.11/site-packages (from pydantic>=1.9->chromadb<0.6.0,>=0.4.0->langchain-chroma) (0.7.0)\r\n",
      "Requirement already satisfied: pydantic-core==2.20.1 in /opt/homebrew/anaconda3/envs/langchain_deep_dive/lib/python3.11/site-packages (from pydantic>=1.9->chromadb<0.6.0,>=0.4.0->langchain-chroma) (2.20.1)\r\n",
      "Requirement already satisfied: huggingface-hub<1.0,>=0.16.4 in /opt/homebrew/anaconda3/envs/langchain_deep_dive/lib/python3.11/site-packages (from tokenizers>=0.13.2->chromadb<0.6.0,>=0.4.0->langchain-chroma) (0.23.4)\r\n",
      "Requirement already satisfied: click>=8.0.0 in /opt/homebrew/anaconda3/envs/langchain_deep_dive/lib/python3.11/site-packages (from typer>=0.9.0->chromadb<0.6.0,>=0.4.0->langchain-chroma) (8.1.7)\r\n",
      "Requirement already satisfied: shellingham>=1.3.0 in /opt/homebrew/anaconda3/envs/langchain_deep_dive/lib/python3.11/site-packages (from typer>=0.9.0->chromadb<0.6.0,>=0.4.0->langchain-chroma) (1.5.4)\r\n",
      "Requirement already satisfied: rich>=10.11.0 in /opt/homebrew/anaconda3/envs/langchain_deep_dive/lib/python3.11/site-packages (from typer>=0.9.0->chromadb<0.6.0,>=0.4.0->langchain-chroma) (13.7.1)\r\n",
      "Requirement already satisfied: httptools>=0.5.0 in /opt/homebrew/anaconda3/envs/langchain_deep_dive/lib/python3.11/site-packages (from uvicorn[standard]>=0.18.3->chromadb<0.6.0,>=0.4.0->langchain-chroma) (0.6.1)\r\n",
      "Requirement already satisfied: python-dotenv>=0.13 in /opt/homebrew/anaconda3/envs/langchain_deep_dive/lib/python3.11/site-packages (from uvicorn[standard]>=0.18.3->chromadb<0.6.0,>=0.4.0->langchain-chroma) (1.0.1)\r\n",
      "Requirement already satisfied: uvloop!=0.15.0,!=0.15.1,>=0.14.0 in /opt/homebrew/anaconda3/envs/langchain_deep_dive/lib/python3.11/site-packages (from uvicorn[standard]>=0.18.3->chromadb<0.6.0,>=0.4.0->langchain-chroma) (0.19.0)\r\n",
      "Requirement already satisfied: watchfiles>=0.13 in /opt/homebrew/anaconda3/envs/langchain_deep_dive/lib/python3.11/site-packages (from uvicorn[standard]>=0.18.3->chromadb<0.6.0,>=0.4.0->langchain-chroma) (0.22.0)\r\n",
      "Requirement already satisfied: websockets>=10.4 in /opt/homebrew/anaconda3/envs/langchain_deep_dive/lib/python3.11/site-packages (from uvicorn[standard]>=0.18.3->chromadb<0.6.0,>=0.4.0->langchain-chroma) (12.0)\r\n",
      "Requirement already satisfied: cachetools<6.0,>=2.0.0 in /opt/homebrew/anaconda3/envs/langchain_deep_dive/lib/python3.11/site-packages (from google-auth>=1.0.1->kubernetes>=28.1.0->chromadb<0.6.0,>=0.4.0->langchain-chroma) (5.3.3)\r\n",
      "Requirement already satisfied: pyasn1-modules>=0.2.1 in /opt/homebrew/anaconda3/envs/langchain_deep_dive/lib/python3.11/site-packages (from google-auth>=1.0.1->kubernetes>=28.1.0->chromadb<0.6.0,>=0.4.0->langchain-chroma) (0.4.0)\r\n",
      "Requirement already satisfied: rsa<5,>=3.1.4 in /opt/homebrew/anaconda3/envs/langchain_deep_dive/lib/python3.11/site-packages (from google-auth>=1.0.1->kubernetes>=28.1.0->chromadb<0.6.0,>=0.4.0->langchain-chroma) (4.9)\r\n",
      "Requirement already satisfied: filelock in /opt/homebrew/anaconda3/envs/langchain_deep_dive/lib/python3.11/site-packages (from huggingface-hub<1.0,>=0.16.4->tokenizers>=0.13.2->chromadb<0.6.0,>=0.4.0->langchain-chroma) (3.15.4)\r\n",
      "Requirement already satisfied: fsspec>=2023.5.0 in /opt/homebrew/anaconda3/envs/langchain_deep_dive/lib/python3.11/site-packages (from huggingface-hub<1.0,>=0.16.4->tokenizers>=0.13.2->chromadb<0.6.0,>=0.4.0->langchain-chroma) (2024.6.1)\r\n",
      "Requirement already satisfied: zipp>=0.5 in /opt/homebrew/anaconda3/envs/langchain_deep_dive/lib/python3.11/site-packages (from importlib-metadata<=7.1,>=6.0->opentelemetry-api>=1.2.0->chromadb<0.6.0,>=0.4.0->langchain-chroma) (3.19.2)\r\n",
      "Requirement already satisfied: charset-normalizer<4,>=2 in /opt/homebrew/anaconda3/envs/langchain_deep_dive/lib/python3.11/site-packages (from requests->kubernetes>=28.1.0->chromadb<0.6.0,>=0.4.0->langchain-chroma) (3.3.2)\r\n",
      "Requirement already satisfied: markdown-it-py>=2.2.0 in /opt/homebrew/anaconda3/envs/langchain_deep_dive/lib/python3.11/site-packages (from rich>=10.11.0->typer>=0.9.0->chromadb<0.6.0,>=0.4.0->langchain-chroma) (3.0.0)\r\n",
      "Requirement already satisfied: pygments<3.0.0,>=2.13.0 in /opt/homebrew/anaconda3/envs/langchain_deep_dive/lib/python3.11/site-packages (from rich>=10.11.0->typer>=0.9.0->chromadb<0.6.0,>=0.4.0->langchain-chroma) (2.18.0)\r\n",
      "Requirement already satisfied: humanfriendly>=9.1 in /opt/homebrew/anaconda3/envs/langchain_deep_dive/lib/python3.11/site-packages (from coloredlogs->onnxruntime>=1.14.1->chromadb<0.6.0,>=0.4.0->langchain-chroma) (10.0)\r\n",
      "Requirement already satisfied: mpmath<1.4,>=1.1.0 in /opt/homebrew/anaconda3/envs/langchain_deep_dive/lib/python3.11/site-packages (from sympy->onnxruntime>=1.14.1->chromadb<0.6.0,>=0.4.0->langchain-chroma) (1.3.0)\r\n",
      "Requirement already satisfied: mdurl~=0.1 in /opt/homebrew/anaconda3/envs/langchain_deep_dive/lib/python3.11/site-packages (from markdown-it-py>=2.2.0->rich>=10.11.0->typer>=0.9.0->chromadb<0.6.0,>=0.4.0->langchain-chroma) (0.1.2)\r\n",
      "Requirement already satisfied: pyasn1<0.7.0,>=0.4.6 in /opt/homebrew/anaconda3/envs/langchain_deep_dive/lib/python3.11/site-packages (from pyasn1-modules>=0.2.1->google-auth>=1.0.1->kubernetes>=28.1.0->chromadb<0.6.0,>=0.4.0->langchain-chroma) (0.6.0)\r\n",
      "Note: you may need to restart the kernel to use updated packages.\n"
     ]
    }
   ],
   "execution_count": 14
  },
  {
   "metadata": {
    "ExecuteTime": {
     "end_time": "2024-07-14T08:41:03.751358Z",
     "start_time": "2024-07-14T08:41:03.515443Z"
    }
   },
   "cell_type": "code",
   "source": [
    "import bs4\n",
    "from langchain_community.document_loaders import WebBaseLoader\n",
    "\n",
    "loader = WebBaseLoader(\n",
    "    web_paths=(\"https://lilianweng.github.io/posts/2023-06-23-agent/\",),\n",
    "    bs_kwargs=dict(\n",
    "        parse_only=bs4.SoupStrainer(\n",
    "            class_=(\"post-content\", \"post-title\", \"post-header\")\n",
    "        )\n",
    "    ),\n",
    ")\n",
    "docs = loader.load()"
   ],
   "id": "6cbece870ec4d543",
   "outputs": [],
   "execution_count": 17
  },
  {
   "metadata": {
    "ExecuteTime": {
     "end_time": "2024-07-14T08:42:57.535330Z",
     "start_time": "2024-07-14T08:42:57.532056Z"
    }
   },
   "cell_type": "code",
   "source": "len(docs)",
   "id": "9c031818483b265c",
   "outputs": [
    {
     "data": {
      "text/plain": [
       "1"
      ]
     },
     "execution_count": 21,
     "metadata": {},
     "output_type": "execute_result"
    }
   ],
   "execution_count": 21
  },
  {
   "metadata": {
    "ExecuteTime": {
     "end_time": "2024-07-14T08:43:07.281993Z",
     "start_time": "2024-07-14T08:43:07.277543Z"
    }
   },
   "cell_type": "code",
   "source": [
    "from langchain_text_splitters import RecursiveCharacterTextSplitter\n",
    "\n",
    "text_splitter = RecursiveCharacterTextSplitter(\n",
    "    chunk_size=1000,\n",
    "    chunk_overlap=200,\n",
    ")\n",
    "split_docs = text_splitter.split_documents(docs)"
   ],
   "id": "530ca7049f5c839e",
   "outputs": [],
   "execution_count": 22
  },
  {
   "metadata": {
    "ExecuteTime": {
     "end_time": "2024-07-14T08:43:11.515678Z",
     "start_time": "2024-07-14T08:43:11.512136Z"
    }
   },
   "cell_type": "code",
   "source": "len(split_docs)",
   "id": "e168b1b6670d9be1",
   "outputs": [
    {
     "data": {
      "text/plain": [
       "66"
      ]
     },
     "execution_count": 23,
     "metadata": {},
     "output_type": "execute_result"
    }
   ],
   "execution_count": 23
  },
  {
   "metadata": {
    "ExecuteTime": {
     "end_time": "2024-07-14T08:46:25.749109Z",
     "start_time": "2024-07-14T08:46:21.335885Z"
    }
   },
   "cell_type": "code",
   "source": [
    "from langchain_chroma import Chroma\n",
    "from langchain_openai import OpenAIEmbeddings\n",
    "\n",
    "embedding = OpenAIEmbeddings()\n",
    "\n",
    "vector_database = Chroma.from_documents(\n",
    "    documents=split_docs, \n",
    "    embedding=embedding,\n",
    ")\n",
    "\n",
    "retriever = vector_database.as_retriever()"
   ],
   "id": "655f2a6a36e8d124",
   "outputs": [],
   "execution_count": 24
  },
  {
   "metadata": {
    "ExecuteTime": {
     "end_time": "2024-07-14T08:47:35.389551Z",
     "start_time": "2024-07-14T08:47:35.383299Z"
    }
   },
   "cell_type": "code",
   "source": [
    "from langchain_core.prompts import ChatPromptTemplate\n",
    "\n",
    "system_prompt = (\n",
    "    \"You are an assistant for question-answering tasks. \"\n",
    "    \"Use the following pieces of retrieved context to answer \"\n",
    "    \"the question. If you don't know the answer, say that you \"\n",
    "    \"don't know. Use three sentences maximum and keep the \"\n",
    "    \"answer concise.\"\n",
    "    \"\\n\\n\"\n",
    "    \"{context}\"\n",
    ")\n",
    "\n",
    "prompt = ChatPromptTemplate.from_messages(\n",
    "    [\n",
    "        (\"system\", system_prompt),\n",
    "        (\"human\", \"{input}\"),\n",
    "    ]\n",
    ")"
   ],
   "id": "4e574767cf1014cd",
   "outputs": [],
   "execution_count": 25
  },
  {
   "metadata": {
    "ExecuteTime": {
     "end_time": "2024-07-14T08:47:54.916668Z",
     "start_time": "2024-07-14T08:47:54.912499Z"
    }
   },
   "cell_type": "code",
   "source": [
    "from langchain.chains import create_retrieval_chain\n",
    "from langchain.chains.combine_documents import create_stuff_documents_chain\n",
    "\n",
    "question_answer_chain = create_stuff_documents_chain(llm, prompt)\n",
    "rag_chain = create_retrieval_chain(retriever, question_answer_chain)"
   ],
   "id": "9d3e49c70d280e6c",
   "outputs": [],
   "execution_count": 26
  },
  {
   "metadata": {
    "ExecuteTime": {
     "end_time": "2024-07-14T08:48:51.141790Z",
     "start_time": "2024-07-14T08:48:49.021037Z"
    }
   },
   "cell_type": "code",
   "source": "response = rag_chain.invoke({\"input\": \"What is Task Decomposition?\"})",
   "id": "17d8dbebc1939c77",
   "outputs": [],
   "execution_count": 28
  },
  {
   "metadata": {
    "ExecuteTime": {
     "end_time": "2024-07-14T08:48:52.431859Z",
     "start_time": "2024-07-14T08:48:52.428999Z"
    }
   },
   "cell_type": "code",
   "source": "response",
   "id": "dd0f1b83d963e122",
   "outputs": [
    {
     "data": {
      "text/plain": [
       "{'input': 'What is Task Decomposition?',\n",
       " 'context': [Document(metadata={'source': 'https://lilianweng.github.io/posts/2023-06-23-agent/'}, page_content='Fig. 1. Overview of a LLM-powered autonomous agent system.\\nComponent One: Planning#\\nA complicated task usually involves many steps. An agent needs to know what they are and plan ahead.\\nTask Decomposition#\\nChain of thought (CoT; Wei et al. 2022) has become a standard prompting technique for enhancing model performance on complex tasks. The model is instructed to “think step by step” to utilize more test-time computation to decompose hard tasks into smaller and simpler steps. CoT transforms big tasks into multiple manageable tasks and shed lights into an interpretation of the model’s thinking process.'),\n",
       "  Document(metadata={'source': 'https://lilianweng.github.io/posts/2023-06-23-agent/'}, page_content='Tree of Thoughts (Yao et al. 2023) extends CoT by exploring multiple reasoning possibilities at each step. It first decomposes the problem into multiple thought steps and generates multiple thoughts per step, creating a tree structure. The search process can be BFS (breadth-first search) or DFS (depth-first search) with each state evaluated by a classifier (via a prompt) or majority vote.\\nTask decomposition can be done (1) by LLM with simple prompting like \"Steps for XYZ.\\\\n1.\", \"What are the subgoals for achieving XYZ?\", (2) by using task-specific instructions; e.g. \"Write a story outline.\" for writing a novel, or (3) with human inputs.'),\n",
       "  Document(metadata={'source': 'https://lilianweng.github.io/posts/2023-06-23-agent/'}, page_content='Resources:\\n1. Internet access for searches and information gathering.\\n2. Long Term memory management.\\n3. GPT-3.5 powered Agents for delegation of simple tasks.\\n4. File output.\\n\\nPerformance Evaluation:\\n1. Continuously review and analyze your actions to ensure you are performing to the best of your abilities.\\n2. Constructively self-criticize your big-picture behavior constantly.\\n3. Reflect on past decisions and strategies to refine your approach.\\n4. Every command has a cost, so be smart and efficient. Aim to complete tasks in the least number of steps.'),\n",
       "  Document(metadata={'source': 'https://lilianweng.github.io/posts/2023-06-23-agent/'}, page_content='Fig. 11. Illustration of how HuggingGPT works. (Image source: Shen et al. 2023)\\nThe system comprises of 4 stages:\\n(1) Task planning: LLM works as the brain and parses the user requests into multiple tasks. There are four attributes associated with each task: task type, ID, dependencies, and arguments. They use few-shot examples to guide LLM to do task parsing and planning.\\nInstruction:')],\n",
       " 'answer': 'Task decomposition involves breaking down a complex task into smaller and simpler steps to make it more manageable and easier to accomplish. Techniques like Chain of Thought (CoT) and Tree of Thoughts are used to guide models in decomposing hard tasks into multiple manageable tasks by thinking step by step or exploring multiple reasoning possibilities at each step. Task decomposition can be performed using simple prompting by LLM, task-specific instructions, or with human inputs.'}"
      ]
     },
     "execution_count": 29,
     "metadata": {},
     "output_type": "execute_result"
    }
   ],
   "execution_count": 29
  },
  {
   "metadata": {},
   "cell_type": "code",
   "outputs": [],
   "execution_count": null,
   "source": "",
   "id": "b8702213384a9ff3"
  }
 ],
 "metadata": {
  "kernelspec": {
   "display_name": "Python 3",
   "language": "python",
   "name": "python3"
  },
  "language_info": {
   "codemirror_mode": {
    "name": "ipython",
    "version": 2
   },
   "file_extension": ".py",
   "mimetype": "text/x-python",
   "name": "python",
   "nbconvert_exporter": "python",
   "pygments_lexer": "ipython2",
   "version": "2.7.6"
  }
 },
 "nbformat": 4,
 "nbformat_minor": 5
}
