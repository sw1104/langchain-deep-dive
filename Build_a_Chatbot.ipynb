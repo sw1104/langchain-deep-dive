{
 "cells": [
  {
   "cell_type": "code",
   "id": "initial_id",
   "metadata": {
    "collapsed": true,
    "ExecuteTime": {
     "end_time": "2024-07-12T08:01:43.010690Z",
     "start_time": "2024-07-12T08:01:41.766671Z"
    }
   },
   "source": "%pip install langchain",
   "outputs": [
    {
     "name": "stdout",
     "output_type": "stream",
     "text": [
      "Requirement already satisfied: langchain in /opt/homebrew/anaconda3/envs/langchain_deep_dive/lib/python3.11/site-packages (0.2.7)\r\n",
      "Requirement already satisfied: PyYAML>=5.3 in /opt/homebrew/anaconda3/envs/langchain_deep_dive/lib/python3.11/site-packages (from langchain) (6.0.1)\r\n",
      "Requirement already satisfied: SQLAlchemy<3,>=1.4 in /opt/homebrew/anaconda3/envs/langchain_deep_dive/lib/python3.11/site-packages (from langchain) (2.0.31)\r\n",
      "Requirement already satisfied: aiohttp<4.0.0,>=3.8.3 in /opt/homebrew/anaconda3/envs/langchain_deep_dive/lib/python3.11/site-packages (from langchain) (3.9.5)\r\n",
      "Requirement already satisfied: langchain-core<0.3.0,>=0.2.12 in /opt/homebrew/anaconda3/envs/langchain_deep_dive/lib/python3.11/site-packages (from langchain) (0.2.13)\r\n",
      "Requirement already satisfied: langchain-text-splitters<0.3.0,>=0.2.0 in /opt/homebrew/anaconda3/envs/langchain_deep_dive/lib/python3.11/site-packages (from langchain) (0.2.2)\r\n",
      "Requirement already satisfied: langsmith<0.2.0,>=0.1.17 in /opt/homebrew/anaconda3/envs/langchain_deep_dive/lib/python3.11/site-packages (from langchain) (0.1.85)\r\n",
      "Requirement already satisfied: numpy<2,>=1 in /opt/homebrew/anaconda3/envs/langchain_deep_dive/lib/python3.11/site-packages (from langchain) (1.26.4)\r\n",
      "Requirement already satisfied: pydantic<3,>=1 in /opt/homebrew/anaconda3/envs/langchain_deep_dive/lib/python3.11/site-packages (from langchain) (2.8.2)\r\n",
      "Requirement already satisfied: requests<3,>=2 in /opt/homebrew/anaconda3/envs/langchain_deep_dive/lib/python3.11/site-packages (from langchain) (2.32.3)\r\n",
      "Requirement already satisfied: tenacity!=8.4.0,<9.0.0,>=8.1.0 in /opt/homebrew/anaconda3/envs/langchain_deep_dive/lib/python3.11/site-packages (from langchain) (8.5.0)\r\n",
      "Requirement already satisfied: aiosignal>=1.1.2 in /opt/homebrew/anaconda3/envs/langchain_deep_dive/lib/python3.11/site-packages (from aiohttp<4.0.0,>=3.8.3->langchain) (1.3.1)\r\n",
      "Requirement already satisfied: attrs>=17.3.0 in /opt/homebrew/anaconda3/envs/langchain_deep_dive/lib/python3.11/site-packages (from aiohttp<4.0.0,>=3.8.3->langchain) (23.2.0)\r\n",
      "Requirement already satisfied: frozenlist>=1.1.1 in /opt/homebrew/anaconda3/envs/langchain_deep_dive/lib/python3.11/site-packages (from aiohttp<4.0.0,>=3.8.3->langchain) (1.4.1)\r\n",
      "Requirement already satisfied: multidict<7.0,>=4.5 in /opt/homebrew/anaconda3/envs/langchain_deep_dive/lib/python3.11/site-packages (from aiohttp<4.0.0,>=3.8.3->langchain) (6.0.5)\r\n",
      "Requirement already satisfied: yarl<2.0,>=1.0 in /opt/homebrew/anaconda3/envs/langchain_deep_dive/lib/python3.11/site-packages (from aiohttp<4.0.0,>=3.8.3->langchain) (1.9.4)\r\n",
      "Requirement already satisfied: jsonpatch<2.0,>=1.33 in /opt/homebrew/anaconda3/envs/langchain_deep_dive/lib/python3.11/site-packages (from langchain-core<0.3.0,>=0.2.12->langchain) (1.33)\r\n",
      "Requirement already satisfied: packaging<25,>=23.2 in /opt/homebrew/anaconda3/envs/langchain_deep_dive/lib/python3.11/site-packages (from langchain-core<0.3.0,>=0.2.12->langchain) (24.1)\r\n",
      "Requirement already satisfied: orjson<4.0.0,>=3.9.14 in /opt/homebrew/anaconda3/envs/langchain_deep_dive/lib/python3.11/site-packages (from langsmith<0.2.0,>=0.1.17->langchain) (3.10.6)\r\n",
      "Requirement already satisfied: annotated-types>=0.4.0 in /opt/homebrew/anaconda3/envs/langchain_deep_dive/lib/python3.11/site-packages (from pydantic<3,>=1->langchain) (0.7.0)\r\n",
      "Requirement already satisfied: pydantic-core==2.20.1 in /opt/homebrew/anaconda3/envs/langchain_deep_dive/lib/python3.11/site-packages (from pydantic<3,>=1->langchain) (2.20.1)\r\n",
      "Requirement already satisfied: typing-extensions>=4.6.1 in /opt/homebrew/anaconda3/envs/langchain_deep_dive/lib/python3.11/site-packages (from pydantic<3,>=1->langchain) (4.12.2)\r\n",
      "Requirement already satisfied: charset-normalizer<4,>=2 in /opt/homebrew/anaconda3/envs/langchain_deep_dive/lib/python3.11/site-packages (from requests<3,>=2->langchain) (3.3.2)\r\n",
      "Requirement already satisfied: idna<4,>=2.5 in /opt/homebrew/anaconda3/envs/langchain_deep_dive/lib/python3.11/site-packages (from requests<3,>=2->langchain) (3.7)\r\n",
      "Requirement already satisfied: urllib3<3,>=1.21.1 in /opt/homebrew/anaconda3/envs/langchain_deep_dive/lib/python3.11/site-packages (from requests<3,>=2->langchain) (2.2.2)\r\n",
      "Requirement already satisfied: certifi>=2017.4.17 in /opt/homebrew/anaconda3/envs/langchain_deep_dive/lib/python3.11/site-packages (from requests<3,>=2->langchain) (2024.7.4)\r\n",
      "Requirement already satisfied: jsonpointer>=1.9 in /opt/homebrew/anaconda3/envs/langchain_deep_dive/lib/python3.11/site-packages (from jsonpatch<2.0,>=1.33->langchain-core<0.3.0,>=0.2.12->langchain) (3.0.0)\r\n",
      "Note: you may need to restart the kernel to use updated packages.\n"
     ]
    }
   ],
   "execution_count": 1
  },
  {
   "metadata": {
    "ExecuteTime": {
     "end_time": "2024-07-12T08:02:04.323097Z",
     "start_time": "2024-07-12T08:02:04.313578Z"
    }
   },
   "cell_type": "code",
   "source": [
    "from dotenv import load_dotenv\n",
    "load_dotenv()"
   ],
   "id": "2c5ee6f868d7d607",
   "outputs": [
    {
     "data": {
      "text/plain": [
       "True"
      ]
     },
     "execution_count": 2,
     "metadata": {},
     "output_type": "execute_result"
    }
   ],
   "execution_count": 2
  },
  {
   "metadata": {
    "ExecuteTime": {
     "end_time": "2024-07-12T08:04:53.331123Z",
     "start_time": "2024-07-12T08:04:53.315849Z"
    }
   },
   "cell_type": "code",
   "source": [
    "from langchain_openai import ChatOpenAI\n",
    "\n",
    "model = ChatOpenAI(model=\"gpt-3.5-turbo\")"
   ],
   "id": "1ed62eb9b6444167",
   "outputs": [],
   "execution_count": 11
  },
  {
   "metadata": {
    "ExecuteTime": {
     "end_time": "2024-07-12T08:04:55.063098Z",
     "start_time": "2024-07-12T08:04:54.062389Z"
    }
   },
   "cell_type": "code",
   "source": [
    "from langchain_core.messages import HumanMessage\n",
    "\n",
    "model.invoke([HumanMessage(content=\"Hi! I'm Sangwoo\")])"
   ],
   "id": "5930670b6e4dd8aa",
   "outputs": [
    {
     "data": {
      "text/plain": [
       "AIMessage(content='Nice to meet you, Sangwoo! How are you doing today?', response_metadata={'token_usage': {'completion_tokens': 14, 'prompt_tokens': 13, 'total_tokens': 27}, 'model_name': 'gpt-3.5-turbo-0125', 'system_fingerprint': None, 'finish_reason': 'stop', 'logprobs': None}, id='run-10959490-e263-42b3-aa1f-109be7009bda-0', usage_metadata={'input_tokens': 13, 'output_tokens': 14, 'total_tokens': 27})"
      ]
     },
     "execution_count": 12,
     "metadata": {},
     "output_type": "execute_result"
    }
   ],
   "execution_count": 12
  },
  {
   "metadata": {
    "ExecuteTime": {
     "end_time": "2024-07-12T08:04:56.187791Z",
     "start_time": "2024-07-12T08:04:55.064535Z"
    }
   },
   "cell_type": "code",
   "source": "model.invoke([HumanMessage(content=\"What's my name?\")])",
   "id": "2a188a11bf0658e8",
   "outputs": [
    {
     "data": {
      "text/plain": [
       "AIMessage(content=\"I'm sorry, I do not have the capability to know your name. How may I assist you today?\", response_metadata={'token_usage': {'completion_tokens': 22, 'prompt_tokens': 12, 'total_tokens': 34}, 'model_name': 'gpt-3.5-turbo-0125', 'system_fingerprint': None, 'finish_reason': 'stop', 'logprobs': None}, id='run-ba95d643-7dd8-4f03-b3a6-3c2b572b71f7-0', usage_metadata={'input_tokens': 12, 'output_tokens': 22, 'total_tokens': 34})"
      ]
     },
     "execution_count": 13,
     "metadata": {},
     "output_type": "execute_result"
    }
   ],
   "execution_count": 13
  },
  {
   "metadata": {},
   "cell_type": "markdown",
   "source": "채팅 히스토리가 없어서 이전 대화 내용을 모른다.",
   "id": "de397a9c80bad6aa"
  },
  {
   "metadata": {
    "ExecuteTime": {
     "end_time": "2024-07-12T08:05:47.804615Z",
     "start_time": "2024-07-12T08:05:47.148942Z"
    }
   },
   "cell_type": "code",
   "source": [
    "from langchain_core.messages import AIMessage\n",
    "\n",
    "model.invoke(\n",
    "    [\n",
    "        HumanMessage(content=\"Hi! I'm Sangwoo\"),\n",
    "        AIMessage(content=\"Nice to meet you, Sangwoo! How are you doing today?\"),\n",
    "        HumanMessage(content=\"What's my name?\"),\n",
    "    ]\n",
    ")"
   ],
   "id": "4f607fcea4641a69",
   "outputs": [
    {
     "data": {
      "text/plain": [
       "AIMessage(content='Your name is Sangwoo.', response_metadata={'token_usage': {'completion_tokens': 6, 'prompt_tokens': 40, 'total_tokens': 46}, 'model_name': 'gpt-3.5-turbo-0125', 'system_fingerprint': None, 'finish_reason': 'stop', 'logprobs': None}, id='run-e1703127-273c-4ffa-b36b-b5f48e94b9a1-0', usage_metadata={'input_tokens': 40, 'output_tokens': 6, 'total_tokens': 46})"
      ]
     },
     "execution_count": 15,
     "metadata": {},
     "output_type": "execute_result"
    }
   ],
   "execution_count": 15
  },
  {
   "metadata": {},
   "cell_type": "markdown",
   "source": "언제까지 이렇게 할 것인가.",
   "id": "89192fe1b776b004"
  },
  {
   "metadata": {
    "ExecuteTime": {
     "end_time": "2024-07-12T08:07:05.980067Z",
     "start_time": "2024-07-12T08:07:03.001599Z"
    }
   },
   "cell_type": "code",
   "source": "%pip install langchain_community",
   "id": "9193c96610955a6c",
   "outputs": [
    {
     "name": "stdout",
     "output_type": "stream",
     "text": [
      "Collecting langchain_community\r\n",
      "  Using cached langchain_community-0.2.7-py3-none-any.whl.metadata (2.5 kB)\r\n",
      "Requirement already satisfied: PyYAML>=5.3 in /opt/homebrew/anaconda3/envs/langchain_deep_dive/lib/python3.11/site-packages (from langchain_community) (6.0.1)\r\n",
      "Requirement already satisfied: SQLAlchemy<3,>=1.4 in /opt/homebrew/anaconda3/envs/langchain_deep_dive/lib/python3.11/site-packages (from langchain_community) (2.0.31)\r\n",
      "Requirement already satisfied: aiohttp<4.0.0,>=3.8.3 in /opt/homebrew/anaconda3/envs/langchain_deep_dive/lib/python3.11/site-packages (from langchain_community) (3.9.5)\r\n",
      "Collecting dataclasses-json<0.7,>=0.5.7 (from langchain_community)\r\n",
      "  Using cached dataclasses_json-0.6.7-py3-none-any.whl.metadata (25 kB)\r\n",
      "Requirement already satisfied: langchain<0.3.0,>=0.2.7 in /opt/homebrew/anaconda3/envs/langchain_deep_dive/lib/python3.11/site-packages (from langchain_community) (0.2.7)\r\n",
      "Requirement already satisfied: langchain-core<0.3.0,>=0.2.12 in /opt/homebrew/anaconda3/envs/langchain_deep_dive/lib/python3.11/site-packages (from langchain_community) (0.2.13)\r\n",
      "Requirement already satisfied: langsmith<0.2.0,>=0.1.0 in /opt/homebrew/anaconda3/envs/langchain_deep_dive/lib/python3.11/site-packages (from langchain_community) (0.1.85)\r\n",
      "Requirement already satisfied: numpy<2,>=1 in /opt/homebrew/anaconda3/envs/langchain_deep_dive/lib/python3.11/site-packages (from langchain_community) (1.26.4)\r\n",
      "Requirement already satisfied: requests<3,>=2 in /opt/homebrew/anaconda3/envs/langchain_deep_dive/lib/python3.11/site-packages (from langchain_community) (2.32.3)\r\n",
      "Requirement already satisfied: tenacity!=8.4.0,<9.0.0,>=8.1.0 in /opt/homebrew/anaconda3/envs/langchain_deep_dive/lib/python3.11/site-packages (from langchain_community) (8.5.0)\r\n",
      "Requirement already satisfied: aiosignal>=1.1.2 in /opt/homebrew/anaconda3/envs/langchain_deep_dive/lib/python3.11/site-packages (from aiohttp<4.0.0,>=3.8.3->langchain_community) (1.3.1)\r\n",
      "Requirement already satisfied: attrs>=17.3.0 in /opt/homebrew/anaconda3/envs/langchain_deep_dive/lib/python3.11/site-packages (from aiohttp<4.0.0,>=3.8.3->langchain_community) (23.2.0)\r\n",
      "Requirement already satisfied: frozenlist>=1.1.1 in /opt/homebrew/anaconda3/envs/langchain_deep_dive/lib/python3.11/site-packages (from aiohttp<4.0.0,>=3.8.3->langchain_community) (1.4.1)\r\n",
      "Requirement already satisfied: multidict<7.0,>=4.5 in /opt/homebrew/anaconda3/envs/langchain_deep_dive/lib/python3.11/site-packages (from aiohttp<4.0.0,>=3.8.3->langchain_community) (6.0.5)\r\n",
      "Requirement already satisfied: yarl<2.0,>=1.0 in /opt/homebrew/anaconda3/envs/langchain_deep_dive/lib/python3.11/site-packages (from aiohttp<4.0.0,>=3.8.3->langchain_community) (1.9.4)\r\n",
      "Collecting marshmallow<4.0.0,>=3.18.0 (from dataclasses-json<0.7,>=0.5.7->langchain_community)\r\n",
      "  Using cached marshmallow-3.21.3-py3-none-any.whl.metadata (7.1 kB)\r\n",
      "Collecting typing-inspect<1,>=0.4.0 (from dataclasses-json<0.7,>=0.5.7->langchain_community)\r\n",
      "  Using cached typing_inspect-0.9.0-py3-none-any.whl.metadata (1.5 kB)\r\n",
      "Requirement already satisfied: langchain-text-splitters<0.3.0,>=0.2.0 in /opt/homebrew/anaconda3/envs/langchain_deep_dive/lib/python3.11/site-packages (from langchain<0.3.0,>=0.2.7->langchain_community) (0.2.2)\r\n",
      "Requirement already satisfied: pydantic<3,>=1 in /opt/homebrew/anaconda3/envs/langchain_deep_dive/lib/python3.11/site-packages (from langchain<0.3.0,>=0.2.7->langchain_community) (2.8.2)\r\n",
      "Requirement already satisfied: jsonpatch<2.0,>=1.33 in /opt/homebrew/anaconda3/envs/langchain_deep_dive/lib/python3.11/site-packages (from langchain-core<0.3.0,>=0.2.12->langchain_community) (1.33)\r\n",
      "Requirement already satisfied: packaging<25,>=23.2 in /opt/homebrew/anaconda3/envs/langchain_deep_dive/lib/python3.11/site-packages (from langchain-core<0.3.0,>=0.2.12->langchain_community) (24.1)\r\n",
      "Requirement already satisfied: orjson<4.0.0,>=3.9.14 in /opt/homebrew/anaconda3/envs/langchain_deep_dive/lib/python3.11/site-packages (from langsmith<0.2.0,>=0.1.0->langchain_community) (3.10.6)\r\n",
      "Requirement already satisfied: charset-normalizer<4,>=2 in /opt/homebrew/anaconda3/envs/langchain_deep_dive/lib/python3.11/site-packages (from requests<3,>=2->langchain_community) (3.3.2)\r\n",
      "Requirement already satisfied: idna<4,>=2.5 in /opt/homebrew/anaconda3/envs/langchain_deep_dive/lib/python3.11/site-packages (from requests<3,>=2->langchain_community) (3.7)\r\n",
      "Requirement already satisfied: urllib3<3,>=1.21.1 in /opt/homebrew/anaconda3/envs/langchain_deep_dive/lib/python3.11/site-packages (from requests<3,>=2->langchain_community) (2.2.2)\r\n",
      "Requirement already satisfied: certifi>=2017.4.17 in /opt/homebrew/anaconda3/envs/langchain_deep_dive/lib/python3.11/site-packages (from requests<3,>=2->langchain_community) (2024.7.4)\r\n",
      "Requirement already satisfied: typing-extensions>=4.6.0 in /opt/homebrew/anaconda3/envs/langchain_deep_dive/lib/python3.11/site-packages (from SQLAlchemy<3,>=1.4->langchain_community) (4.12.2)\r\n",
      "Requirement already satisfied: jsonpointer>=1.9 in /opt/homebrew/anaconda3/envs/langchain_deep_dive/lib/python3.11/site-packages (from jsonpatch<2.0,>=1.33->langchain-core<0.3.0,>=0.2.12->langchain_community) (3.0.0)\r\n",
      "Requirement already satisfied: annotated-types>=0.4.0 in /opt/homebrew/anaconda3/envs/langchain_deep_dive/lib/python3.11/site-packages (from pydantic<3,>=1->langchain<0.3.0,>=0.2.7->langchain_community) (0.7.0)\r\n",
      "Requirement already satisfied: pydantic-core==2.20.1 in /opt/homebrew/anaconda3/envs/langchain_deep_dive/lib/python3.11/site-packages (from pydantic<3,>=1->langchain<0.3.0,>=0.2.7->langchain_community) (2.20.1)\r\n",
      "Collecting mypy-extensions>=0.3.0 (from typing-inspect<1,>=0.4.0->dataclasses-json<0.7,>=0.5.7->langchain_community)\r\n",
      "  Using cached mypy_extensions-1.0.0-py3-none-any.whl.metadata (1.1 kB)\r\n",
      "Using cached langchain_community-0.2.7-py3-none-any.whl (2.2 MB)\r\n",
      "Using cached dataclasses_json-0.6.7-py3-none-any.whl (28 kB)\r\n",
      "Using cached marshmallow-3.21.3-py3-none-any.whl (49 kB)\r\n",
      "Using cached typing_inspect-0.9.0-py3-none-any.whl (8.8 kB)\r\n",
      "Using cached mypy_extensions-1.0.0-py3-none-any.whl (4.7 kB)\r\n",
      "Installing collected packages: mypy-extensions, marshmallow, typing-inspect, dataclasses-json, langchain_community\r\n",
      "Successfully installed dataclasses-json-0.6.7 langchain_community-0.2.7 marshmallow-3.21.3 mypy-extensions-1.0.0 typing-inspect-0.9.0\r\n",
      "Note: you may need to restart the kernel to use updated packages.\n"
     ]
    }
   ],
   "execution_count": 16
  },
  {
   "metadata": {
    "ExecuteTime": {
     "end_time": "2024-07-12T08:10:16.025405Z",
     "start_time": "2024-07-12T08:10:16.002078Z"
    }
   },
   "cell_type": "code",
   "source": [
    "from langchain_core.chat_history import BaseChatMessageHistory, InMemoryChatMessageHistory\n",
    "from langchain_core.runnables.history import RunnableWithMessageHistory\n",
    "\n",
    "store = {}\n",
    "\n",
    "\n",
    "def get_session_history(session_id:str) -> BaseChatMessageHistory:\n",
    "    if session_id not in store:\n",
    "        store[session_id] = InMemoryChatMessageHistory()\n",
    "    return store[session_id]\n",
    "\n",
    "with_message_history = RunnableWithMessageHistory(model, get_session_history)"
   ],
   "id": "849cfb5a7258875f",
   "outputs": [],
   "execution_count": 17
  },
  {
   "metadata": {
    "ExecuteTime": {
     "end_time": "2024-07-12T08:10:47.995329Z",
     "start_time": "2024-07-12T08:10:47.993041Z"
    }
   },
   "cell_type": "code",
   "source": "config = {\"configurable\" : {\"session_id\" : \"abc2\"}}",
   "id": "e2b987349fb80a06",
   "outputs": [],
   "execution_count": 18
  },
  {
   "metadata": {
    "ExecuteTime": {
     "end_time": "2024-07-12T08:11:31.437931Z",
     "start_time": "2024-07-12T08:11:30.377694Z"
    }
   },
   "cell_type": "code",
   "source": [
    "response = with_message_history.invoke(\n",
    "    [HumanMessage(content=\"Hi! I'm Sangwoo\")],\n",
    "    config=config,\n",
    ")\n",
    "\n",
    "response.content"
   ],
   "id": "7a220211f0b99806",
   "outputs": [
    {
     "data": {
      "text/plain": [
       "'. Nice to meet you, Sangwoo! How can I assist you today?'"
      ]
     },
     "execution_count": 19,
     "metadata": {},
     "output_type": "execute_result"
    }
   ],
   "execution_count": 19
  },
  {
   "metadata": {
    "ExecuteTime": {
     "end_time": "2024-07-12T08:14:29.585355Z",
     "start_time": "2024-07-12T08:14:29.582605Z"
    }
   },
   "cell_type": "code",
   "source": "store",
   "id": "975b3e6dab83121b",
   "outputs": [
    {
     "data": {
      "text/plain": [
       "{'abc2': InMemoryChatMessageHistory(messages=[HumanMessage(content=\"Hi! I'm Sangwoo\"), AIMessage(content='. Nice to meet you, Sangwoo! How can I assist you today?', response_metadata={'token_usage': {'completion_tokens': 16, 'prompt_tokens': 13, 'total_tokens': 29}, 'model_name': 'gpt-3.5-turbo-0125', 'system_fingerprint': None, 'finish_reason': 'stop', 'logprobs': None}, id='run-938bc9d4-4d4f-4419-ad7e-6cdf3f2e4fc8-0', usage_metadata={'input_tokens': 13, 'output_tokens': 16, 'total_tokens': 29}), HumanMessage(content=\"What's my name?\"), AIMessage(content='Your name is Sangwoo.', response_metadata={'token_usage': {'completion_tokens': 6, 'prompt_tokens': 42, 'total_tokens': 48}, 'model_name': 'gpt-3.5-turbo-0125', 'system_fingerprint': None, 'finish_reason': 'stop', 'logprobs': None}, id='run-5ac94b83-2abd-4f70-b50d-6b31943fd701-0', usage_metadata={'input_tokens': 42, 'output_tokens': 6, 'total_tokens': 48}), HumanMessage(content=\"What's my name?\"), AIMessage(content='Your name is Sangwoo.', response_metadata={'token_usage': {'completion_tokens': 6, 'prompt_tokens': 61, 'total_tokens': 67}, 'model_name': 'gpt-3.5-turbo-0125', 'system_fingerprint': None, 'finish_reason': 'stop', 'logprobs': None}, id='run-c45054d9-ec59-477e-8eaa-8bf294a9673f-0', usage_metadata={'input_tokens': 61, 'output_tokens': 6, 'total_tokens': 67})])}"
      ]
     },
     "execution_count": 34,
     "metadata": {},
     "output_type": "execute_result"
    }
   ],
   "execution_count": 34
  },
  {
   "metadata": {
    "ExecuteTime": {
     "end_time": "2024-07-12T08:13:31.339051Z",
     "start_time": "2024-07-12T08:13:30.639903Z"
    }
   },
   "cell_type": "code",
   "source": [
    "response = with_message_history.invoke(\n",
    "    [HumanMessage(content=\"What's my name?\")],\n",
    "    config=config,\n",
    ")\n",
    "\n",
    "response.content"
   ],
   "id": "e10828bef3dfb056",
   "outputs": [
    {
     "data": {
      "text/plain": [
       "'Your name is Sangwoo.'"
      ]
     },
     "execution_count": 27,
     "metadata": {},
     "output_type": "execute_result"
    }
   ],
   "execution_count": 27
  },
  {
   "metadata": {
    "ExecuteTime": {
     "end_time": "2024-07-12T08:14:42.830059Z",
     "start_time": "2024-07-12T08:14:42.826663Z"
    }
   },
   "cell_type": "code",
   "source": "store",
   "id": "d5c3308617298cd1",
   "outputs": [
    {
     "data": {
      "text/plain": [
       "{'abc2': InMemoryChatMessageHistory(messages=[HumanMessage(content=\"Hi! I'm Sangwoo\"), AIMessage(content='. Nice to meet you, Sangwoo! How can I assist you today?', response_metadata={'token_usage': {'completion_tokens': 16, 'prompt_tokens': 13, 'total_tokens': 29}, 'model_name': 'gpt-3.5-turbo-0125', 'system_fingerprint': None, 'finish_reason': 'stop', 'logprobs': None}, id='run-938bc9d4-4d4f-4419-ad7e-6cdf3f2e4fc8-0', usage_metadata={'input_tokens': 13, 'output_tokens': 16, 'total_tokens': 29}), HumanMessage(content=\"What's my name?\"), AIMessage(content='Your name is Sangwoo.', response_metadata={'token_usage': {'completion_tokens': 6, 'prompt_tokens': 42, 'total_tokens': 48}, 'model_name': 'gpt-3.5-turbo-0125', 'system_fingerprint': None, 'finish_reason': 'stop', 'logprobs': None}, id='run-5ac94b83-2abd-4f70-b50d-6b31943fd701-0', usage_metadata={'input_tokens': 42, 'output_tokens': 6, 'total_tokens': 48}), HumanMessage(content=\"What's my name?\"), AIMessage(content='Your name is Sangwoo.', response_metadata={'token_usage': {'completion_tokens': 6, 'prompt_tokens': 61, 'total_tokens': 67}, 'model_name': 'gpt-3.5-turbo-0125', 'system_fingerprint': None, 'finish_reason': 'stop', 'logprobs': None}, id='run-c45054d9-ec59-477e-8eaa-8bf294a9673f-0', usage_metadata={'input_tokens': 61, 'output_tokens': 6, 'total_tokens': 67})])}"
      ]
     },
     "execution_count": 35,
     "metadata": {},
     "output_type": "execute_result"
    }
   ],
   "execution_count": 35
  },
  {
   "metadata": {},
   "cell_type": "code",
   "outputs": [],
   "execution_count": null,
   "source": "",
   "id": "cb524030c4057810"
  }
 ],
 "metadata": {
  "kernelspec": {
   "display_name": "Python 3",
   "language": "python",
   "name": "python3"
  },
  "language_info": {
   "codemirror_mode": {
    "name": "ipython",
    "version": 2
   },
   "file_extension": ".py",
   "mimetype": "text/x-python",
   "name": "python",
   "nbconvert_exporter": "python",
   "pygments_lexer": "ipython2",
   "version": "2.7.6"
  }
 },
 "nbformat": 4,
 "nbformat_minor": 5
}
