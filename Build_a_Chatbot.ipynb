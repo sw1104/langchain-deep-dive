{
 "cells": [
  {
   "cell_type": "code",
   "id": "initial_id",
   "metadata": {
    "collapsed": true,
    "ExecuteTime": {
     "end_time": "2024-07-12T08:01:43.010690Z",
     "start_time": "2024-07-12T08:01:41.766671Z"
    }
   },
   "source": "%pip install langchain",
   "outputs": [
    {
     "name": "stdout",
     "output_type": "stream",
     "text": [
      "Requirement already satisfied: langchain in /opt/homebrew/anaconda3/envs/langchain_deep_dive/lib/python3.11/site-packages (0.2.7)\r\n",
      "Requirement already satisfied: PyYAML>=5.3 in /opt/homebrew/anaconda3/envs/langchain_deep_dive/lib/python3.11/site-packages (from langchain) (6.0.1)\r\n",
      "Requirement already satisfied: SQLAlchemy<3,>=1.4 in /opt/homebrew/anaconda3/envs/langchain_deep_dive/lib/python3.11/site-packages (from langchain) (2.0.31)\r\n",
      "Requirement already satisfied: aiohttp<4.0.0,>=3.8.3 in /opt/homebrew/anaconda3/envs/langchain_deep_dive/lib/python3.11/site-packages (from langchain) (3.9.5)\r\n",
      "Requirement already satisfied: langchain-core<0.3.0,>=0.2.12 in /opt/homebrew/anaconda3/envs/langchain_deep_dive/lib/python3.11/site-packages (from langchain) (0.2.13)\r\n",
      "Requirement already satisfied: langchain-text-splitters<0.3.0,>=0.2.0 in /opt/homebrew/anaconda3/envs/langchain_deep_dive/lib/python3.11/site-packages (from langchain) (0.2.2)\r\n",
      "Requirement already satisfied: langsmith<0.2.0,>=0.1.17 in /opt/homebrew/anaconda3/envs/langchain_deep_dive/lib/python3.11/site-packages (from langchain) (0.1.85)\r\n",
      "Requirement already satisfied: numpy<2,>=1 in /opt/homebrew/anaconda3/envs/langchain_deep_dive/lib/python3.11/site-packages (from langchain) (1.26.4)\r\n",
      "Requirement already satisfied: pydantic<3,>=1 in /opt/homebrew/anaconda3/envs/langchain_deep_dive/lib/python3.11/site-packages (from langchain) (2.8.2)\r\n",
      "Requirement already satisfied: requests<3,>=2 in /opt/homebrew/anaconda3/envs/langchain_deep_dive/lib/python3.11/site-packages (from langchain) (2.32.3)\r\n",
      "Requirement already satisfied: tenacity!=8.4.0,<9.0.0,>=8.1.0 in /opt/homebrew/anaconda3/envs/langchain_deep_dive/lib/python3.11/site-packages (from langchain) (8.5.0)\r\n",
      "Requirement already satisfied: aiosignal>=1.1.2 in /opt/homebrew/anaconda3/envs/langchain_deep_dive/lib/python3.11/site-packages (from aiohttp<4.0.0,>=3.8.3->langchain) (1.3.1)\r\n",
      "Requirement already satisfied: attrs>=17.3.0 in /opt/homebrew/anaconda3/envs/langchain_deep_dive/lib/python3.11/site-packages (from aiohttp<4.0.0,>=3.8.3->langchain) (23.2.0)\r\n",
      "Requirement already satisfied: frozenlist>=1.1.1 in /opt/homebrew/anaconda3/envs/langchain_deep_dive/lib/python3.11/site-packages (from aiohttp<4.0.0,>=3.8.3->langchain) (1.4.1)\r\n",
      "Requirement already satisfied: multidict<7.0,>=4.5 in /opt/homebrew/anaconda3/envs/langchain_deep_dive/lib/python3.11/site-packages (from aiohttp<4.0.0,>=3.8.3->langchain) (6.0.5)\r\n",
      "Requirement already satisfied: yarl<2.0,>=1.0 in /opt/homebrew/anaconda3/envs/langchain_deep_dive/lib/python3.11/site-packages (from aiohttp<4.0.0,>=3.8.3->langchain) (1.9.4)\r\n",
      "Requirement already satisfied: jsonpatch<2.0,>=1.33 in /opt/homebrew/anaconda3/envs/langchain_deep_dive/lib/python3.11/site-packages (from langchain-core<0.3.0,>=0.2.12->langchain) (1.33)\r\n",
      "Requirement already satisfied: packaging<25,>=23.2 in /opt/homebrew/anaconda3/envs/langchain_deep_dive/lib/python3.11/site-packages (from langchain-core<0.3.0,>=0.2.12->langchain) (24.1)\r\n",
      "Requirement already satisfied: orjson<4.0.0,>=3.9.14 in /opt/homebrew/anaconda3/envs/langchain_deep_dive/lib/python3.11/site-packages (from langsmith<0.2.0,>=0.1.17->langchain) (3.10.6)\r\n",
      "Requirement already satisfied: annotated-types>=0.4.0 in /opt/homebrew/anaconda3/envs/langchain_deep_dive/lib/python3.11/site-packages (from pydantic<3,>=1->langchain) (0.7.0)\r\n",
      "Requirement already satisfied: pydantic-core==2.20.1 in /opt/homebrew/anaconda3/envs/langchain_deep_dive/lib/python3.11/site-packages (from pydantic<3,>=1->langchain) (2.20.1)\r\n",
      "Requirement already satisfied: typing-extensions>=4.6.1 in /opt/homebrew/anaconda3/envs/langchain_deep_dive/lib/python3.11/site-packages (from pydantic<3,>=1->langchain) (4.12.2)\r\n",
      "Requirement already satisfied: charset-normalizer<4,>=2 in /opt/homebrew/anaconda3/envs/langchain_deep_dive/lib/python3.11/site-packages (from requests<3,>=2->langchain) (3.3.2)\r\n",
      "Requirement already satisfied: idna<4,>=2.5 in /opt/homebrew/anaconda3/envs/langchain_deep_dive/lib/python3.11/site-packages (from requests<3,>=2->langchain) (3.7)\r\n",
      "Requirement already satisfied: urllib3<3,>=1.21.1 in /opt/homebrew/anaconda3/envs/langchain_deep_dive/lib/python3.11/site-packages (from requests<3,>=2->langchain) (2.2.2)\r\n",
      "Requirement already satisfied: certifi>=2017.4.17 in /opt/homebrew/anaconda3/envs/langchain_deep_dive/lib/python3.11/site-packages (from requests<3,>=2->langchain) (2024.7.4)\r\n",
      "Requirement already satisfied: jsonpointer>=1.9 in /opt/homebrew/anaconda3/envs/langchain_deep_dive/lib/python3.11/site-packages (from jsonpatch<2.0,>=1.33->langchain-core<0.3.0,>=0.2.12->langchain) (3.0.0)\r\n",
      "Note: you may need to restart the kernel to use updated packages.\n"
     ]
    }
   ],
   "execution_count": 1
  },
  {
   "metadata": {
    "ExecuteTime": {
     "end_time": "2024-07-12T08:02:04.323097Z",
     "start_time": "2024-07-12T08:02:04.313578Z"
    }
   },
   "cell_type": "code",
   "source": [
    "from dotenv import load_dotenv\n",
    "load_dotenv()"
   ],
   "id": "2c5ee6f868d7d607",
   "outputs": [
    {
     "data": {
      "text/plain": [
       "True"
      ]
     },
     "execution_count": 2,
     "metadata": {},
     "output_type": "execute_result"
    }
   ],
   "execution_count": 2
  },
  {
   "metadata": {
    "ExecuteTime": {
     "end_time": "2024-07-12T08:04:53.331123Z",
     "start_time": "2024-07-12T08:04:53.315849Z"
    }
   },
   "cell_type": "code",
   "source": [
    "from langchain_openai import ChatOpenAI\n",
    "\n",
    "model = ChatOpenAI(model=\"gpt-3.5-turbo\")"
   ],
   "id": "1ed62eb9b6444167",
   "outputs": [],
   "execution_count": 11
  },
  {
   "metadata": {
    "ExecuteTime": {
     "end_time": "2024-07-12T08:04:55.063098Z",
     "start_time": "2024-07-12T08:04:54.062389Z"
    }
   },
   "cell_type": "code",
   "source": [
    "from langchain_core.messages import HumanMessage\n",
    "\n",
    "model.invoke([HumanMessage(content=\"Hi! I'm Sangwoo\")])"
   ],
   "id": "5930670b6e4dd8aa",
   "outputs": [
    {
     "data": {
      "text/plain": [
       "AIMessage(content='Nice to meet you, Sangwoo! How are you doing today?', response_metadata={'token_usage': {'completion_tokens': 14, 'prompt_tokens': 13, 'total_tokens': 27}, 'model_name': 'gpt-3.5-turbo-0125', 'system_fingerprint': None, 'finish_reason': 'stop', 'logprobs': None}, id='run-10959490-e263-42b3-aa1f-109be7009bda-0', usage_metadata={'input_tokens': 13, 'output_tokens': 14, 'total_tokens': 27})"
      ]
     },
     "execution_count": 12,
     "metadata": {},
     "output_type": "execute_result"
    }
   ],
   "execution_count": 12
  },
  {
   "metadata": {
    "ExecuteTime": {
     "end_time": "2024-07-12T08:04:56.187791Z",
     "start_time": "2024-07-12T08:04:55.064535Z"
    }
   },
   "cell_type": "code",
   "source": "model.invoke([HumanMessage(content=\"What's my name?\")])",
   "id": "2a188a11bf0658e8",
   "outputs": [
    {
     "data": {
      "text/plain": [
       "AIMessage(content=\"I'm sorry, I do not have the capability to know your name. How may I assist you today?\", response_metadata={'token_usage': {'completion_tokens': 22, 'prompt_tokens': 12, 'total_tokens': 34}, 'model_name': 'gpt-3.5-turbo-0125', 'system_fingerprint': None, 'finish_reason': 'stop', 'logprobs': None}, id='run-ba95d643-7dd8-4f03-b3a6-3c2b572b71f7-0', usage_metadata={'input_tokens': 12, 'output_tokens': 22, 'total_tokens': 34})"
      ]
     },
     "execution_count": 13,
     "metadata": {},
     "output_type": "execute_result"
    }
   ],
   "execution_count": 13
  },
  {
   "metadata": {},
   "cell_type": "markdown",
   "source": "채팅 히스토리가 없어서 이전 대화 내용을 모른다.",
   "id": "de397a9c80bad6aa"
  },
  {
   "metadata": {
    "ExecuteTime": {
     "end_time": "2024-07-12T08:05:47.804615Z",
     "start_time": "2024-07-12T08:05:47.148942Z"
    }
   },
   "cell_type": "code",
   "source": [
    "from langchain_core.messages import AIMessage\n",
    "\n",
    "model.invoke(\n",
    "    [\n",
    "        HumanMessage(content=\"Hi! I'm Sangwoo\"),\n",
    "        AIMessage(content=\"Nice to meet you, Sangwoo! How are you doing today?\"),\n",
    "        HumanMessage(content=\"What's my name?\"),\n",
    "    ]\n",
    ")"
   ],
   "id": "4f607fcea4641a69",
   "outputs": [
    {
     "data": {
      "text/plain": [
       "AIMessage(content='Your name is Sangwoo.', response_metadata={'token_usage': {'completion_tokens': 6, 'prompt_tokens': 40, 'total_tokens': 46}, 'model_name': 'gpt-3.5-turbo-0125', 'system_fingerprint': None, 'finish_reason': 'stop', 'logprobs': None}, id='run-e1703127-273c-4ffa-b36b-b5f48e94b9a1-0', usage_metadata={'input_tokens': 40, 'output_tokens': 6, 'total_tokens': 46})"
      ]
     },
     "execution_count": 15,
     "metadata": {},
     "output_type": "execute_result"
    }
   ],
   "execution_count": 15
  },
  {
   "metadata": {},
   "cell_type": "markdown",
   "source": "언제까지 이렇게 할 것인가.",
   "id": "89192fe1b776b004"
  },
  {
   "metadata": {
    "ExecuteTime": {
     "end_time": "2024-07-12T08:07:05.980067Z",
     "start_time": "2024-07-12T08:07:03.001599Z"
    }
   },
   "cell_type": "code",
   "source": "%pip install langchain_community",
   "id": "9193c96610955a6c",
   "outputs": [
    {
     "name": "stdout",
     "output_type": "stream",
     "text": [
      "Collecting langchain_community\r\n",
      "  Using cached langchain_community-0.2.7-py3-none-any.whl.metadata (2.5 kB)\r\n",
      "Requirement already satisfied: PyYAML>=5.3 in /opt/homebrew/anaconda3/envs/langchain_deep_dive/lib/python3.11/site-packages (from langchain_community) (6.0.1)\r\n",
      "Requirement already satisfied: SQLAlchemy<3,>=1.4 in /opt/homebrew/anaconda3/envs/langchain_deep_dive/lib/python3.11/site-packages (from langchain_community) (2.0.31)\r\n",
      "Requirement already satisfied: aiohttp<4.0.0,>=3.8.3 in /opt/homebrew/anaconda3/envs/langchain_deep_dive/lib/python3.11/site-packages (from langchain_community) (3.9.5)\r\n",
      "Collecting dataclasses-json<0.7,>=0.5.7 (from langchain_community)\r\n",
      "  Using cached dataclasses_json-0.6.7-py3-none-any.whl.metadata (25 kB)\r\n",
      "Requirement already satisfied: langchain<0.3.0,>=0.2.7 in /opt/homebrew/anaconda3/envs/langchain_deep_dive/lib/python3.11/site-packages (from langchain_community) (0.2.7)\r\n",
      "Requirement already satisfied: langchain-core<0.3.0,>=0.2.12 in /opt/homebrew/anaconda3/envs/langchain_deep_dive/lib/python3.11/site-packages (from langchain_community) (0.2.13)\r\n",
      "Requirement already satisfied: langsmith<0.2.0,>=0.1.0 in /opt/homebrew/anaconda3/envs/langchain_deep_dive/lib/python3.11/site-packages (from langchain_community) (0.1.85)\r\n",
      "Requirement already satisfied: numpy<2,>=1 in /opt/homebrew/anaconda3/envs/langchain_deep_dive/lib/python3.11/site-packages (from langchain_community) (1.26.4)\r\n",
      "Requirement already satisfied: requests<3,>=2 in /opt/homebrew/anaconda3/envs/langchain_deep_dive/lib/python3.11/site-packages (from langchain_community) (2.32.3)\r\n",
      "Requirement already satisfied: tenacity!=8.4.0,<9.0.0,>=8.1.0 in /opt/homebrew/anaconda3/envs/langchain_deep_dive/lib/python3.11/site-packages (from langchain_community) (8.5.0)\r\n",
      "Requirement already satisfied: aiosignal>=1.1.2 in /opt/homebrew/anaconda3/envs/langchain_deep_dive/lib/python3.11/site-packages (from aiohttp<4.0.0,>=3.8.3->langchain_community) (1.3.1)\r\n",
      "Requirement already satisfied: attrs>=17.3.0 in /opt/homebrew/anaconda3/envs/langchain_deep_dive/lib/python3.11/site-packages (from aiohttp<4.0.0,>=3.8.3->langchain_community) (23.2.0)\r\n",
      "Requirement already satisfied: frozenlist>=1.1.1 in /opt/homebrew/anaconda3/envs/langchain_deep_dive/lib/python3.11/site-packages (from aiohttp<4.0.0,>=3.8.3->langchain_community) (1.4.1)\r\n",
      "Requirement already satisfied: multidict<7.0,>=4.5 in /opt/homebrew/anaconda3/envs/langchain_deep_dive/lib/python3.11/site-packages (from aiohttp<4.0.0,>=3.8.3->langchain_community) (6.0.5)\r\n",
      "Requirement already satisfied: yarl<2.0,>=1.0 in /opt/homebrew/anaconda3/envs/langchain_deep_dive/lib/python3.11/site-packages (from aiohttp<4.0.0,>=3.8.3->langchain_community) (1.9.4)\r\n",
      "Collecting marshmallow<4.0.0,>=3.18.0 (from dataclasses-json<0.7,>=0.5.7->langchain_community)\r\n",
      "  Using cached marshmallow-3.21.3-py3-none-any.whl.metadata (7.1 kB)\r\n",
      "Collecting typing-inspect<1,>=0.4.0 (from dataclasses-json<0.7,>=0.5.7->langchain_community)\r\n",
      "  Using cached typing_inspect-0.9.0-py3-none-any.whl.metadata (1.5 kB)\r\n",
      "Requirement already satisfied: langchain-text-splitters<0.3.0,>=0.2.0 in /opt/homebrew/anaconda3/envs/langchain_deep_dive/lib/python3.11/site-packages (from langchain<0.3.0,>=0.2.7->langchain_community) (0.2.2)\r\n",
      "Requirement already satisfied: pydantic<3,>=1 in /opt/homebrew/anaconda3/envs/langchain_deep_dive/lib/python3.11/site-packages (from langchain<0.3.0,>=0.2.7->langchain_community) (2.8.2)\r\n",
      "Requirement already satisfied: jsonpatch<2.0,>=1.33 in /opt/homebrew/anaconda3/envs/langchain_deep_dive/lib/python3.11/site-packages (from langchain-core<0.3.0,>=0.2.12->langchain_community) (1.33)\r\n",
      "Requirement already satisfied: packaging<25,>=23.2 in /opt/homebrew/anaconda3/envs/langchain_deep_dive/lib/python3.11/site-packages (from langchain-core<0.3.0,>=0.2.12->langchain_community) (24.1)\r\n",
      "Requirement already satisfied: orjson<4.0.0,>=3.9.14 in /opt/homebrew/anaconda3/envs/langchain_deep_dive/lib/python3.11/site-packages (from langsmith<0.2.0,>=0.1.0->langchain_community) (3.10.6)\r\n",
      "Requirement already satisfied: charset-normalizer<4,>=2 in /opt/homebrew/anaconda3/envs/langchain_deep_dive/lib/python3.11/site-packages (from requests<3,>=2->langchain_community) (3.3.2)\r\n",
      "Requirement already satisfied: idna<4,>=2.5 in /opt/homebrew/anaconda3/envs/langchain_deep_dive/lib/python3.11/site-packages (from requests<3,>=2->langchain_community) (3.7)\r\n",
      "Requirement already satisfied: urllib3<3,>=1.21.1 in /opt/homebrew/anaconda3/envs/langchain_deep_dive/lib/python3.11/site-packages (from requests<3,>=2->langchain_community) (2.2.2)\r\n",
      "Requirement already satisfied: certifi>=2017.4.17 in /opt/homebrew/anaconda3/envs/langchain_deep_dive/lib/python3.11/site-packages (from requests<3,>=2->langchain_community) (2024.7.4)\r\n",
      "Requirement already satisfied: typing-extensions>=4.6.0 in /opt/homebrew/anaconda3/envs/langchain_deep_dive/lib/python3.11/site-packages (from SQLAlchemy<3,>=1.4->langchain_community) (4.12.2)\r\n",
      "Requirement already satisfied: jsonpointer>=1.9 in /opt/homebrew/anaconda3/envs/langchain_deep_dive/lib/python3.11/site-packages (from jsonpatch<2.0,>=1.33->langchain-core<0.3.0,>=0.2.12->langchain_community) (3.0.0)\r\n",
      "Requirement already satisfied: annotated-types>=0.4.0 in /opt/homebrew/anaconda3/envs/langchain_deep_dive/lib/python3.11/site-packages (from pydantic<3,>=1->langchain<0.3.0,>=0.2.7->langchain_community) (0.7.0)\r\n",
      "Requirement already satisfied: pydantic-core==2.20.1 in /opt/homebrew/anaconda3/envs/langchain_deep_dive/lib/python3.11/site-packages (from pydantic<3,>=1->langchain<0.3.0,>=0.2.7->langchain_community) (2.20.1)\r\n",
      "Collecting mypy-extensions>=0.3.0 (from typing-inspect<1,>=0.4.0->dataclasses-json<0.7,>=0.5.7->langchain_community)\r\n",
      "  Using cached mypy_extensions-1.0.0-py3-none-any.whl.metadata (1.1 kB)\r\n",
      "Using cached langchain_community-0.2.7-py3-none-any.whl (2.2 MB)\r\n",
      "Using cached dataclasses_json-0.6.7-py3-none-any.whl (28 kB)\r\n",
      "Using cached marshmallow-3.21.3-py3-none-any.whl (49 kB)\r\n",
      "Using cached typing_inspect-0.9.0-py3-none-any.whl (8.8 kB)\r\n",
      "Using cached mypy_extensions-1.0.0-py3-none-any.whl (4.7 kB)\r\n",
      "Installing collected packages: mypy-extensions, marshmallow, typing-inspect, dataclasses-json, langchain_community\r\n",
      "Successfully installed dataclasses-json-0.6.7 langchain_community-0.2.7 marshmallow-3.21.3 mypy-extensions-1.0.0 typing-inspect-0.9.0\r\n",
      "Note: you may need to restart the kernel to use updated packages.\n"
     ]
    }
   ],
   "execution_count": 16
  },
  {
   "metadata": {
    "ExecuteTime": {
     "end_time": "2024-07-12T08:10:16.025405Z",
     "start_time": "2024-07-12T08:10:16.002078Z"
    }
   },
   "cell_type": "code",
   "source": [
    "from langchain_core.chat_history import BaseChatMessageHistory, InMemoryChatMessageHistory\n",
    "from langchain_core.runnables.history import RunnableWithMessageHistory\n",
    "\n",
    "store = {}\n",
    "\n",
    "\n",
    "def get_session_history(session_id:str) -> BaseChatMessageHistory:\n",
    "    if session_id not in store:\n",
    "        store[session_id] = InMemoryChatMessageHistory()\n",
    "    return store[session_id]\n",
    "\n",
    "with_message_history = RunnableWithMessageHistory(model, get_session_history)"
   ],
   "id": "849cfb5a7258875f",
   "outputs": [],
   "execution_count": 17
  },
  {
   "metadata": {
    "ExecuteTime": {
     "end_time": "2024-07-12T08:10:47.995329Z",
     "start_time": "2024-07-12T08:10:47.993041Z"
    }
   },
   "cell_type": "code",
   "source": "config = {\"configurable\" : {\"session_id\" : \"abc2\"}}",
   "id": "e2b987349fb80a06",
   "outputs": [],
   "execution_count": 18
  },
  {
   "metadata": {
    "ExecuteTime": {
     "end_time": "2024-07-12T08:11:31.437931Z",
     "start_time": "2024-07-12T08:11:30.377694Z"
    }
   },
   "cell_type": "code",
   "source": [
    "response = with_message_history.invoke(\n",
    "    [HumanMessage(content=\"Hi! I'm Sangwoo\")],\n",
    "    config=config,\n",
    ")\n",
    "\n",
    "response.content"
   ],
   "id": "7a220211f0b99806",
   "outputs": [
    {
     "data": {
      "text/plain": [
       "'. Nice to meet you, Sangwoo! How can I assist you today?'"
      ]
     },
     "execution_count": 19,
     "metadata": {},
     "output_type": "execute_result"
    }
   ],
   "execution_count": 19
  },
  {
   "metadata": {
    "ExecuteTime": {
     "end_time": "2024-07-12T08:14:29.585355Z",
     "start_time": "2024-07-12T08:14:29.582605Z"
    }
   },
   "cell_type": "code",
   "source": "store",
   "id": "975b3e6dab83121b",
   "outputs": [
    {
     "data": {
      "text/plain": [
       "{'abc2': InMemoryChatMessageHistory(messages=[HumanMessage(content=\"Hi! I'm Sangwoo\"), AIMessage(content='. Nice to meet you, Sangwoo! How can I assist you today?', response_metadata={'token_usage': {'completion_tokens': 16, 'prompt_tokens': 13, 'total_tokens': 29}, 'model_name': 'gpt-3.5-turbo-0125', 'system_fingerprint': None, 'finish_reason': 'stop', 'logprobs': None}, id='run-938bc9d4-4d4f-4419-ad7e-6cdf3f2e4fc8-0', usage_metadata={'input_tokens': 13, 'output_tokens': 16, 'total_tokens': 29}), HumanMessage(content=\"What's my name?\"), AIMessage(content='Your name is Sangwoo.', response_metadata={'token_usage': {'completion_tokens': 6, 'prompt_tokens': 42, 'total_tokens': 48}, 'model_name': 'gpt-3.5-turbo-0125', 'system_fingerprint': None, 'finish_reason': 'stop', 'logprobs': None}, id='run-5ac94b83-2abd-4f70-b50d-6b31943fd701-0', usage_metadata={'input_tokens': 42, 'output_tokens': 6, 'total_tokens': 48}), HumanMessage(content=\"What's my name?\"), AIMessage(content='Your name is Sangwoo.', response_metadata={'token_usage': {'completion_tokens': 6, 'prompt_tokens': 61, 'total_tokens': 67}, 'model_name': 'gpt-3.5-turbo-0125', 'system_fingerprint': None, 'finish_reason': 'stop', 'logprobs': None}, id='run-c45054d9-ec59-477e-8eaa-8bf294a9673f-0', usage_metadata={'input_tokens': 61, 'output_tokens': 6, 'total_tokens': 67})])}"
      ]
     },
     "execution_count": 34,
     "metadata": {},
     "output_type": "execute_result"
    }
   ],
   "execution_count": 34
  },
  {
   "metadata": {
    "ExecuteTime": {
     "end_time": "2024-07-12T08:13:31.339051Z",
     "start_time": "2024-07-12T08:13:30.639903Z"
    }
   },
   "cell_type": "code",
   "source": [
    "response = with_message_history.invoke(\n",
    "    [HumanMessage(content=\"What's my name?\")],\n",
    "    config=config,\n",
    ")\n",
    "\n",
    "response.content"
   ],
   "id": "e10828bef3dfb056",
   "outputs": [
    {
     "data": {
      "text/plain": [
       "'Your name is Sangwoo.'"
      ]
     },
     "execution_count": 27,
     "metadata": {},
     "output_type": "execute_result"
    }
   ],
   "execution_count": 27
  },
  {
   "metadata": {
    "ExecuteTime": {
     "end_time": "2024-07-12T08:14:42.830059Z",
     "start_time": "2024-07-12T08:14:42.826663Z"
    }
   },
   "cell_type": "code",
   "source": "store",
   "id": "d5c3308617298cd1",
   "outputs": [
    {
     "data": {
      "text/plain": [
       "{'abc2': InMemoryChatMessageHistory(messages=[HumanMessage(content=\"Hi! I'm Sangwoo\"), AIMessage(content='. Nice to meet you, Sangwoo! How can I assist you today?', response_metadata={'token_usage': {'completion_tokens': 16, 'prompt_tokens': 13, 'total_tokens': 29}, 'model_name': 'gpt-3.5-turbo-0125', 'system_fingerprint': None, 'finish_reason': 'stop', 'logprobs': None}, id='run-938bc9d4-4d4f-4419-ad7e-6cdf3f2e4fc8-0', usage_metadata={'input_tokens': 13, 'output_tokens': 16, 'total_tokens': 29}), HumanMessage(content=\"What's my name?\"), AIMessage(content='Your name is Sangwoo.', response_metadata={'token_usage': {'completion_tokens': 6, 'prompt_tokens': 42, 'total_tokens': 48}, 'model_name': 'gpt-3.5-turbo-0125', 'system_fingerprint': None, 'finish_reason': 'stop', 'logprobs': None}, id='run-5ac94b83-2abd-4f70-b50d-6b31943fd701-0', usage_metadata={'input_tokens': 42, 'output_tokens': 6, 'total_tokens': 48}), HumanMessage(content=\"What's my name?\"), AIMessage(content='Your name is Sangwoo.', response_metadata={'token_usage': {'completion_tokens': 6, 'prompt_tokens': 61, 'total_tokens': 67}, 'model_name': 'gpt-3.5-turbo-0125', 'system_fingerprint': None, 'finish_reason': 'stop', 'logprobs': None}, id='run-c45054d9-ec59-477e-8eaa-8bf294a9673f-0', usage_metadata={'input_tokens': 61, 'output_tokens': 6, 'total_tokens': 67})])}"
      ]
     },
     "execution_count": 35,
     "metadata": {},
     "output_type": "execute_result"
    }
   ],
   "execution_count": 35
  },
  {
   "metadata": {},
   "cell_type": "markdown",
   "source": "프롬프트 ",
   "id": "6b3dc8a5da2cf86d"
  },
  {
   "metadata": {
    "ExecuteTime": {
     "end_time": "2024-07-12T08:21:35.114929Z",
     "start_time": "2024-07-12T08:21:35.106211Z"
    }
   },
   "cell_type": "code",
   "source": [
    "from langchain_core.prompts import ChatPromptTemplate, MessagesPlaceholder\n",
    "\n",
    "prompt = ChatPromptTemplate.from_messages(\n",
    "    [\n",
    "        (\n",
    "            \"system\",\n",
    "            \"You are a helpful assistant, Answer all questions to the best of your ability.\",\n",
    "        ),\n",
    "        MessagesPlaceholder(variable_name=\"messages\"),\n",
    "    ]\n",
    ")\n",
    "\n",
    "chain = prompt | model"
   ],
   "id": "cb524030c4057810",
   "outputs": [],
   "execution_count": 36
  },
  {
   "metadata": {
    "ExecuteTime": {
     "end_time": "2024-07-12T08:22:18.074216Z",
     "start_time": "2024-07-12T08:22:17.239997Z"
    }
   },
   "cell_type": "code",
   "source": [
    "response = chain.invoke({\"messages\": [HumanMessage(content=\"hi! I'm Sangwoo\")]})\n",
    "\n",
    "response.content"
   ],
   "id": "d29841c20abd1380",
   "outputs": [
    {
     "data": {
      "text/plain": [
       "'Hello Sangwoo! How can I assist you today?'"
      ]
     },
     "execution_count": 37,
     "metadata": {},
     "output_type": "execute_result"
    }
   ],
   "execution_count": 37
  },
  {
   "metadata": {},
   "cell_type": "markdown",
   "source": "message history mapping",
   "id": "578c9e52e0ea153"
  },
  {
   "metadata": {
    "ExecuteTime": {
     "end_time": "2024-07-12T08:23:30.627321Z",
     "start_time": "2024-07-12T08:23:30.621823Z"
    }
   },
   "cell_type": "code",
   "source": "with_message_history = RunnableWithMessageHistory(chain, get_session_history)",
   "id": "4dafc14fec04e0f2",
   "outputs": [],
   "execution_count": 38
  },
  {
   "metadata": {
    "ExecuteTime": {
     "end_time": "2024-07-12T08:23:58.423804Z",
     "start_time": "2024-07-12T08:23:58.419534Z"
    }
   },
   "cell_type": "code",
   "source": "config = {\"configurable\": {\"session_id\": \"abc5\"}}",
   "id": "b91c89c85fa52a0c",
   "outputs": [],
   "execution_count": 39
  },
  {
   "metadata": {
    "ExecuteTime": {
     "end_time": "2024-07-12T08:25:11.335483Z",
     "start_time": "2024-07-12T08:25:10.540507Z"
    }
   },
   "cell_type": "code",
   "source": [
    "response = with_message_history.invoke(\n",
    "    [HumanMessage(content=\"Hi! I'm Sangwoo\")],\n",
    "    config=config\n",
    ")\n",
    "\n",
    "response.content"
   ],
   "id": "b28d67af2d00b68e",
   "outputs": [
    {
     "data": {
      "text/plain": [
       "'Hello Sangwoo! How can I assist you today?'"
      ]
     },
     "execution_count": 43,
     "metadata": {},
     "output_type": "execute_result"
    }
   ],
   "execution_count": 43
  },
  {
   "metadata": {
    "ExecuteTime": {
     "end_time": "2024-07-12T08:25:24.342671Z",
     "start_time": "2024-07-12T08:25:23.426426Z"
    }
   },
   "cell_type": "code",
   "source": [
    "response = with_message_history.invoke(\n",
    "    [HumanMessage(content=\"What's my name?\")],\n",
    "    config=config\n",
    ")\n",
    "\n",
    "response.content"
   ],
   "id": "9bf1df0ef7f2888f",
   "outputs": [
    {
     "data": {
      "text/plain": [
       "'Your name is Sangwoo. How can I assist you today, Sangwoo?'"
      ]
     },
     "execution_count": 44,
     "metadata": {},
     "output_type": "execute_result"
    }
   ],
   "execution_count": 44
  },
  {
   "metadata": {},
   "cell_type": "markdown",
   "source": "프롬프트 강화",
   "id": "58c9b25816d68db7"
  },
  {
   "metadata": {
    "ExecuteTime": {
     "end_time": "2024-07-12T08:25:47.052880Z",
     "start_time": "2024-07-12T08:25:47.049315Z"
    }
   },
   "cell_type": "code",
   "source": [
    "prompt = ChatPromptTemplate.from_messages(\n",
    "    [\n",
    "        (\n",
    "            \"system\",\n",
    "            \"You are a helpful assistant. Answer all questions to the best of your ability in {language}.\",\n",
    "        ),\n",
    "        MessagesPlaceholder(variable_name=\"messages\"),\n",
    "    ]\n",
    ")\n",
    "\n",
    "chain = prompt | model"
   ],
   "id": "b75afd3efb48c9ce",
   "outputs": [],
   "execution_count": 45
  },
  {
   "metadata": {
    "ExecuteTime": {
     "end_time": "2024-07-12T08:26:43.315744Z",
     "start_time": "2024-07-12T08:26:42.485876Z"
    }
   },
   "cell_type": "code",
   "source": [
    "response = chain.invoke(\n",
    "    {\"messages\": [HumanMessage(content=\"Hi! I'm Sangwoo\")], \"language\": \"Korean\"}\n",
    ")\n",
    "\n",
    "response.content"
   ],
   "id": "58a0332cf9fd38cf",
   "outputs": [
    {
     "data": {
      "text/plain": [
       "'안녕하세요, 상우님! 무엇을 도와드릴까요?'"
      ]
     },
     "execution_count": 46,
     "metadata": {},
     "output_type": "execute_result"
    }
   ],
   "execution_count": 46
  },
  {
   "metadata": {
    "ExecuteTime": {
     "end_time": "2024-07-12T08:30:26.473995Z",
     "start_time": "2024-07-12T08:30:26.463966Z"
    }
   },
   "cell_type": "code",
   "source": [
    "with_message_history = RunnableWithMessageHistory(\n",
    "    chain,\n",
    "    get_session_history,\n",
    "    input_messages_key=\"messages\",\n",
    ")"
   ],
   "id": "66e1123017ce385d",
   "outputs": [],
   "execution_count": 47
  },
  {
   "metadata": {
    "ExecuteTime": {
     "end_time": "2024-07-12T08:30:46.916443Z",
     "start_time": "2024-07-12T08:30:46.913796Z"
    }
   },
   "cell_type": "code",
   "source": "config = {\"configurable\" : {\"session_id\": \"abc11\"}}",
   "id": "388b919bdc594286",
   "outputs": [],
   "execution_count": 48
  },
  {
   "metadata": {
    "ExecuteTime": {
     "end_time": "2024-07-12T08:32:13.124068Z",
     "start_time": "2024-07-12T08:32:12.059798Z"
    }
   },
   "cell_type": "code",
   "source": [
    "response = with_message_history.invoke(\n",
    "    {\"messages\": [HumanMessage(content=\"Hi! I'm Sangwoo\")], \"language\": \"Korean\"},\n",
    "    config=config\n",
    ")\n",
    "\n",
    "response.content"
   ],
   "id": "362d59b8acf35c0c",
   "outputs": [
    {
     "data": {
      "text/plain": [
       "'안녕하세요, 상우님! 어떻게 도와드릴까요?'"
      ]
     },
     "execution_count": 49,
     "metadata": {},
     "output_type": "execute_result"
    }
   ],
   "execution_count": 49
  },
  {
   "metadata": {
    "ExecuteTime": {
     "end_time": "2024-07-12T08:33:34.016633Z",
     "start_time": "2024-07-12T08:33:33.050637Z"
    }
   },
   "cell_type": "code",
   "source": [
    "response = with_message_history.invoke(\n",
    "    {\"messages\": [HumanMessage(content=\"What's my name?\")], \"language\" : \"Korean\"},\n",
    "    config=config\n",
    ")\n",
    "\n",
    "response.content"
   ],
   "id": "e109f621a3120d76",
   "outputs": [
    {
     "data": {
      "text/plain": [
       "'당신의 이름은 상우입니다.'"
      ]
     },
     "execution_count": 51,
     "metadata": {},
     "output_type": "execute_result"
    }
   ],
   "execution_count": 51
  },
  {
   "metadata": {},
   "cell_type": "markdown",
   "source": "Chat",
   "id": "bd0afad1a546cdce"
  },
  {
   "metadata": {
    "ExecuteTime": {
     "end_time": "2024-07-12T08:45:36.948692Z",
     "start_time": "2024-07-12T08:45:36.733021Z"
    }
   },
   "cell_type": "code",
   "source": [
    "from langchain_core.messages import SystemMessage, trim_messages\n",
    "\n",
    "trimmer = trim_messages(\n",
    "    max_tokens=65,\n",
    "    strategy='last',\n",
    "    token_counter=model,\n",
    "    include_system=True,\n",
    "    allow_partial=False,\n",
    "    start_on=\"human\",\n",
    ")\n",
    "\n",
    "messages = [\n",
    "    SystemMessage(content=\"you're a good assistant\"),\n",
    "    HumanMessage(content=\"hi! I'm Sangwoo\"),\n",
    "    AIMessage(content=\"hi!\"),\n",
    "    HumanMessage(content=\"I like vanilla ice cream\"),\n",
    "    AIMessage(content=\"nice\"),\n",
    "    HumanMessage(content=\"whats 2 + 2\"),\n",
    "    AIMessage(content=\"4\"),\n",
    "    HumanMessage(content=\"thanks\"),\n",
    "    AIMessage(content=\"no problem!\"),\n",
    "    HumanMessage(content=\"having fun?\"),\n",
    "    AIMessage(content=\"yes!\"),\n",
    "]\n",
    "\n",
    "trimmer.invoke(messages)"
   ],
   "id": "9d5e5cf1f88ad936",
   "outputs": [
    {
     "data": {
      "text/plain": [
       "[SystemMessage(content=\"you're a good assistant\"),\n",
       " HumanMessage(content='whats 2 + 2'),\n",
       " AIMessage(content='4'),\n",
       " HumanMessage(content='thanks'),\n",
       " AIMessage(content='no problem!'),\n",
       " HumanMessage(content='having fun?'),\n",
       " AIMessage(content='yes!')]"
      ]
     },
     "execution_count": 53,
     "metadata": {},
     "output_type": "execute_result"
    }
   ],
   "execution_count": 53
  },
  {
   "metadata": {},
   "cell_type": "markdown",
   "source": "채팅 기록에서 이름을 없애서 물어보면 모른다고함.",
   "id": "e72b482dd94b08b7"
  },
  {
   "metadata": {
    "ExecuteTime": {
     "end_time": "2024-07-12T08:47:59.547997Z",
     "start_time": "2024-07-12T08:47:59.545326Z"
    }
   },
   "cell_type": "code",
   "source": [
    "from operator import itemgetter\n",
    "\n",
    "from langchain_core.runnables import RunnablePassthrough\n",
    "\n",
    "chain = (\n",
    "    RunnablePassthrough.assign(messages=itemgetter(\"messages\") | trimmer)\n",
    "    | prompt\n",
    "    | model\n",
    ")"
   ],
   "id": "bebd591931044b61",
   "outputs": [],
   "execution_count": 57
  },
  {
   "metadata": {
    "ExecuteTime": {
     "end_time": "2024-07-12T08:48:07.086575Z",
     "start_time": "2024-07-12T08:48:06.072632Z"
    }
   },
   "cell_type": "code",
   "source": [
    "response = chain.invoke(\n",
    "    {\"messages\": messages + [HumanMessage(content=\"what's my name?\")], \"language\": \"English\"}\n",
    ")\n",
    "response.content"
   ],
   "id": "29ee1d7e5a706172",
   "outputs": [
    {
     "data": {
      "text/plain": [
       "\"I'm sorry, but I don't have access to your personal information. How can I assist you today?\""
      ]
     },
     "execution_count": 59,
     "metadata": {},
     "output_type": "execute_result"
    }
   ],
   "execution_count": 59
  },
  {
   "metadata": {
    "ExecuteTime": {
     "end_time": "2024-07-12T08:49:02.028527Z",
     "start_time": "2024-07-12T08:49:01.251595Z"
    }
   },
   "cell_type": "code",
   "source": [
    "response = chain.invoke(\n",
    "    {\"messages\": messages + [HumanMessage(content=\"what math problem did i ask\")],\"language\": \"English\"}\n",
    ")\n",
    "response.content"
   ],
   "id": "235f3849bc120486",
   "outputs": [
    {
     "data": {
      "text/plain": [
       "'You asked \"what\\'s 2 + 2?\"'"
      ]
     },
     "execution_count": 61,
     "metadata": {},
     "output_type": "execute_result"
    }
   ],
   "execution_count": 61
  },
  {
   "metadata": {
    "ExecuteTime": {
     "end_time": "2024-07-12T09:50:17.080523Z",
     "start_time": "2024-07-12T09:50:17.067188Z"
    }
   },
   "cell_type": "code",
   "source": [
    "with_message_history = RunnableWithMessageHistory(\n",
    "    chain,\n",
    "    get_session_history,\n",
    "    input_messages_key=\"messages\",\n",
    ")\n",
    "\n",
    "config = {\"configurable\": {\"session_id\": \"abc20\"}}"
   ],
   "id": "ed0af3ece3412d04",
   "outputs": [],
   "execution_count": 62
  },
  {
   "metadata": {
    "ExecuteTime": {
     "end_time": "2024-07-12T09:50:26.110905Z",
     "start_time": "2024-07-12T09:50:25.296809Z"
    }
   },
   "cell_type": "code",
   "source": [
    "response = with_message_history.invoke(\n",
    "    {\n",
    "        \"messages\": messages + [HumanMessage(content=\"whats my name?\")],\n",
    "        \"language\": \"English\",\n",
    "    },\n",
    "    config=config,\n",
    ")\n",
    "\n",
    "response.content"
   ],
   "id": "56ad8c90302a8982",
   "outputs": [
    {
     "data": {
      "text/plain": [
       "\"I'm sorry, I don't have access to that information. How can I assist you today?\""
      ]
     },
     "execution_count": 63,
     "metadata": {},
     "output_type": "execute_result"
    }
   ],
   "execution_count": 63
  },
  {
   "metadata": {
    "ExecuteTime": {
     "end_time": "2024-07-12T09:50:35.115801Z",
     "start_time": "2024-07-12T09:50:34.148331Z"
    }
   },
   "cell_type": "code",
   "source": [
    "response = with_message_history.invoke(\n",
    "    {\n",
    "        \"messages\": [HumanMessage(content=\"what math problem did i ask?\")],\n",
    "        \"language\": \"English\",\n",
    "    },\n",
    "    config=config,\n",
    ")\n",
    "\n",
    "response.content"
   ],
   "id": "c40f15847f5ffd99",
   "outputs": [
    {
     "data": {
      "text/plain": [
       "\"You haven't asked a math problem yet. Feel free to ask any math question you have, and I'll be happy to help you solve it.\""
      ]
     },
     "execution_count": 64,
     "metadata": {},
     "output_type": "execute_result"
    }
   ],
   "execution_count": 64
  },
  {
   "metadata": {
    "ExecuteTime": {
     "end_time": "2024-07-12T09:51:18.352638Z",
     "start_time": "2024-07-12T09:51:17.388952Z"
    }
   },
   "cell_type": "code",
   "source": [
    "config = {\"configurable\": {\"session_id\": \"abc15\"}}\n",
    "for r in with_message_history.stream(\n",
    "    {\n",
    "        \"messages\": [HumanMessage(content=\"hi! I'm Sangwoo. tell me a joke\")],\n",
    "        \"language\": \"English\",\n",
    "    },\n",
    "    config=config,\n",
    "):\n",
    "    print(r.content, end=\"|\")"
   ],
   "id": "3c55b401e3d8b1f7",
   "outputs": [
    {
     "name": "stdout",
     "output_type": "stream",
     "text": [
      "|Hello|,| Sang|woo|!| Here|'s| a| joke| for| you|:| Why| did| the| math| book| look| sad|?| Because| it| had| too| many| problems|.| 😄||"
     ]
    }
   ],
   "execution_count": 66
  },
  {
   "metadata": {},
   "cell_type": "code",
   "outputs": [],
   "execution_count": null,
   "source": "",
   "id": "f37ee44ea50d89a"
  }
 ],
 "metadata": {
  "kernelspec": {
   "display_name": "Python 3",
   "language": "python",
   "name": "python3"
  },
  "language_info": {
   "codemirror_mode": {
    "name": "ipython",
    "version": 2
   },
   "file_extension": ".py",
   "mimetype": "text/x-python",
   "name": "python",
   "nbconvert_exporter": "python",
   "pygments_lexer": "ipython2",
   "version": "2.7.6"
  }
 },
 "nbformat": 4,
 "nbformat_minor": 5
}
